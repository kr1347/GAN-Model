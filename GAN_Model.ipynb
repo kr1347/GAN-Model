{
  "nbformat": 4,
  "nbformat_minor": 0,
  "metadata": {
    "colab": {
      "provenance": [],
      "gpuType": "A100",
      "authorship_tag": "ABX9TyMOFwI7fjHbwloxnVEPckBu",
      "include_colab_link": true
    },
    "kernelspec": {
      "name": "python3",
      "display_name": "Python 3"
    },
    "language_info": {
      "name": "python"
    },
    "accelerator": "GPU"
  },
  "cells": [
    {
      "cell_type": "markdown",
      "metadata": {
        "id": "view-in-github",
        "colab_type": "text"
      },
      "source": [
        "<a href=\"https://colab.research.google.com/github/kr1347/GAN-Model/blob/main/GAN_Model.ipynb\" target=\"_parent\"><img src=\"https://colab.research.google.com/assets/colab-badge.svg\" alt=\"Open In Colab\"/></a>"
      ]
    },
    {
      "cell_type": "markdown",
      "source": [],
      "metadata": {
        "id": "xf6-7rYaWfrZ"
      }
    },
    {
      "cell_type": "code",
      "execution_count": null,
      "metadata": {
        "colab": {
          "base_uri": "https://localhost:8080/"
        },
        "id": "iUj1wjG7U2NW",
        "outputId": "1aaddcff-1c51-48ad-9f90-e60579d8e489"
      },
      "outputs": [
        {
          "output_type": "stream",
          "name": "stdout",
          "text": [
            "Drive already mounted at /content/drive; to attempt to forcibly remount, call drive.mount(\"/content/drive\", force_remount=True).\n"
          ]
        }
      ],
      "source": [
        "from google.colab import drive\n",
        "drive.mount('/content/drive')\n",
        "\n",
        "\n",
        "\n",
        "\n",
        "\n",
        "\n",
        "\n",
        "\n",
        "\n"
      ]
    },
    {
      "cell_type": "code",
      "source": [
        "!pip install torch torchvision matplotlib\n"
      ],
      "metadata": {
        "colab": {
          "base_uri": "https://localhost:8080/"
        },
        "id": "2LqJO3D8Wg-5",
        "outputId": "23713085-03b2-4bb1-d8af-904a4a8b9542"
      },
      "execution_count": null,
      "outputs": [
        {
          "output_type": "stream",
          "name": "stdout",
          "text": [
            "Requirement already satisfied: torch in /usr/local/lib/python3.11/dist-packages (2.6.0+cu124)\n",
            "Requirement already satisfied: torchvision in /usr/local/lib/python3.11/dist-packages (0.21.0+cu124)\n",
            "Requirement already satisfied: matplotlib in /usr/local/lib/python3.11/dist-packages (3.10.0)\n",
            "Requirement already satisfied: filelock in /usr/local/lib/python3.11/dist-packages (from torch) (3.18.0)\n",
            "Requirement already satisfied: typing-extensions>=4.10.0 in /usr/local/lib/python3.11/dist-packages (from torch) (4.12.2)\n",
            "Requirement already satisfied: networkx in /usr/local/lib/python3.11/dist-packages (from torch) (3.4.2)\n",
            "Requirement already satisfied: jinja2 in /usr/local/lib/python3.11/dist-packages (from torch) (3.1.6)\n",
            "Requirement already satisfied: fsspec in /usr/local/lib/python3.11/dist-packages (from torch) (2025.3.0)\n",
            "Requirement already satisfied: nvidia-cuda-nvrtc-cu12==12.4.127 in /usr/local/lib/python3.11/dist-packages (from torch) (12.4.127)\n",
            "Requirement already satisfied: nvidia-cuda-runtime-cu12==12.4.127 in /usr/local/lib/python3.11/dist-packages (from torch) (12.4.127)\n",
            "Requirement already satisfied: nvidia-cuda-cupti-cu12==12.4.127 in /usr/local/lib/python3.11/dist-packages (from torch) (12.4.127)\n",
            "Requirement already satisfied: nvidia-cudnn-cu12==9.1.0.70 in /usr/local/lib/python3.11/dist-packages (from torch) (9.1.0.70)\n",
            "Requirement already satisfied: nvidia-cublas-cu12==12.4.5.8 in /usr/local/lib/python3.11/dist-packages (from torch) (12.4.5.8)\n",
            "Requirement already satisfied: nvidia-cufft-cu12==11.2.1.3 in /usr/local/lib/python3.11/dist-packages (from torch) (11.2.1.3)\n",
            "Requirement already satisfied: nvidia-curand-cu12==10.3.5.147 in /usr/local/lib/python3.11/dist-packages (from torch) (10.3.5.147)\n",
            "Requirement already satisfied: nvidia-cusolver-cu12==11.6.1.9 in /usr/local/lib/python3.11/dist-packages (from torch) (11.6.1.9)\n",
            "Requirement already satisfied: nvidia-cusparse-cu12==12.3.1.170 in /usr/local/lib/python3.11/dist-packages (from torch) (12.3.1.170)\n",
            "Requirement already satisfied: nvidia-cusparselt-cu12==0.6.2 in /usr/local/lib/python3.11/dist-packages (from torch) (0.6.2)\n",
            "Requirement already satisfied: nvidia-nccl-cu12==2.21.5 in /usr/local/lib/python3.11/dist-packages (from torch) (2.21.5)\n",
            "Requirement already satisfied: nvidia-nvtx-cu12==12.4.127 in /usr/local/lib/python3.11/dist-packages (from torch) (12.4.127)\n",
            "Requirement already satisfied: nvidia-nvjitlink-cu12==12.4.127 in /usr/local/lib/python3.11/dist-packages (from torch) (12.4.127)\n",
            "Requirement already satisfied: triton==3.2.0 in /usr/local/lib/python3.11/dist-packages (from torch) (3.2.0)\n",
            "Requirement already satisfied: sympy==1.13.1 in /usr/local/lib/python3.11/dist-packages (from torch) (1.13.1)\n",
            "Requirement already satisfied: mpmath<1.4,>=1.1.0 in /usr/local/lib/python3.11/dist-packages (from sympy==1.13.1->torch) (1.3.0)\n",
            "Requirement already satisfied: numpy in /usr/local/lib/python3.11/dist-packages (from torchvision) (2.0.2)\n",
            "Requirement already satisfied: pillow!=8.3.*,>=5.3.0 in /usr/local/lib/python3.11/dist-packages (from torchvision) (11.1.0)\n",
            "Requirement already satisfied: contourpy>=1.0.1 in /usr/local/lib/python3.11/dist-packages (from matplotlib) (1.3.1)\n",
            "Requirement already satisfied: cycler>=0.10 in /usr/local/lib/python3.11/dist-packages (from matplotlib) (0.12.1)\n",
            "Requirement already satisfied: fonttools>=4.22.0 in /usr/local/lib/python3.11/dist-packages (from matplotlib) (4.56.0)\n",
            "Requirement already satisfied: kiwisolver>=1.3.1 in /usr/local/lib/python3.11/dist-packages (from matplotlib) (1.4.8)\n",
            "Requirement already satisfied: packaging>=20.0 in /usr/local/lib/python3.11/dist-packages (from matplotlib) (24.2)\n",
            "Requirement already satisfied: pyparsing>=2.3.1 in /usr/local/lib/python3.11/dist-packages (from matplotlib) (3.2.1)\n",
            "Requirement already satisfied: python-dateutil>=2.7 in /usr/local/lib/python3.11/dist-packages (from matplotlib) (2.8.2)\n",
            "Requirement already satisfied: six>=1.5 in /usr/local/lib/python3.11/dist-packages (from python-dateutil>=2.7->matplotlib) (1.17.0)\n",
            "Requirement already satisfied: MarkupSafe>=2.0 in /usr/local/lib/python3.11/dist-packages (from jinja2->torch) (3.0.2)\n"
          ]
        }
      ]
    },
    {
      "cell_type": "code",
      "source": [
        "import kagglehub\n",
        "\n",
        "# Download latest version\n",
        "path = kagglehub.dataset_download(\"hearfool/vggface2\")\n",
        "\n",
        "print(\"Path to dataset files:\", path)"
      ],
      "metadata": {
        "colab": {
          "base_uri": "https://localhost:8080/"
        },
        "id": "MAdT4WMcWokH",
        "outputId": "16b0c17c-68d1-4322-9afe-34af7bf7fc30"
      },
      "execution_count": null,
      "outputs": [
        {
          "output_type": "stream",
          "name": "stdout",
          "text": [
            "Path to dataset files: /root/.cache/kagglehub/datasets/hearfool/vggface2/versions/1\n"
          ]
        }
      ]
    },
    {
      "cell_type": "markdown",
      "source": [
        "#Part 2: Training Setup\n",
        "\n",
        "This includes:\n",
        "\n",
        "Dataloader\n",
        "Optimizers\n",
        "Loss function\n",
        "Fixed noise for visualization\n",
        "Checkpoint directory setup"
      ],
      "metadata": {
        "id": "tThsCH5E1mZH"
      }
    },
    {
      "cell_type": "code",
      "source": [
        "import os\n",
        "from PIL import Image\n",
        "from torchvision import transforms\n",
        "from torchvision.utils import save_image\n",
        "\n",
        "input_dir = \"/root/.cache/kagglehub/datasets/hearfool/vggface2/versions/1\"\n",
        "output_dir = \"./vggface2_processed\"\n",
        "os.makedirs(output_dir, exist_ok=True)\n",
        "\n",
        "transform = transforms.Compose([\n",
        "    transforms.Resize((64, 64)),\n",
        "    transforms.CenterCrop(64),\n",
        "    transforms.ToTensor(),\n",
        "    transforms.Normalize([0.5]*3, [0.5]*3)\n",
        "])\n",
        "\n",
        "count = 0\n",
        "max_images = 25000  # Limit to speed up training\n",
        "\n",
        "for root, _, files in os.walk(input_dir):\n",
        "    for file in files:\n",
        "        if file.endswith(\".jpg\"):\n",
        "            try:\n",
        "                path = os.path.join(root, file)\n",
        "                img = Image.open(path).convert(\"RGB\")\n",
        "                img = transform(img)\n",
        "\n",
        "                # Extract class name from the directory structure\n",
        "                class_name = os.path.basename(os.path.dirname(path))\n",
        "\n",
        "                # Create class subdirectory if it doesn't exist\n",
        "                class_dir = os.path.join(output_dir, class_name)\n",
        "                os.makedirs(class_dir, exist_ok=True)\n",
        "\n",
        "                save_image(img, os.path.join(class_dir, f\"{count}.png\"))\n",
        "                count += 1\n",
        "                if count >= max_images:\n",
        "                    break\n",
        "            except Exception as e:\n",
        "                print(f\"Error: {e}\")\n",
        "    if count >= max_images:\n",
        "        break\n",
        "\n",
        "print(f\"Saved {count} preprocessed images.\")"
      ],
      "metadata": {
        "colab": {
          "base_uri": "https://localhost:8080/"
        },
        "id": "pb8nEYKX1fku",
        "outputId": "0e5f84f0-fbaa-4b8a-f403-f64bcd2ed130"
      },
      "execution_count": null,
      "outputs": [
        {
          "output_type": "stream",
          "name": "stdout",
          "text": [
            "Saved 25000 preprocessed images.\n"
          ]
        }
      ]
    },
    {
      "cell_type": "code",
      "source": [
        "from torchvision import datasets, transforms\n",
        "from torch.utils.data import DataLoader\n",
        "from torchvision.datasets import ImageFolder\n",
        "\n",
        "image_size = 128\n",
        "batch_size = 128\n",
        "z_dim = 100\n",
        "\n",
        "transform = transforms.Compose([\n",
        "    transforms.Resize(image_size),\n",
        "    transforms.CenterCrop(image_size),\n",
        "    transforms.ToTensor(),\n",
        "    transforms.Normalize([0.5]*3, [0.5]*3)  # Normalize to [-1, 1]\n",
        "])\n",
        "\n",
        "dataset = ImageFolder(root=\"./vggface2_processed\", transform=transform)\n",
        "dataloader = DataLoader(dataset, batch_size=batch_size, shuffle=True)\n"
      ],
      "metadata": {
        "id": "JBzVrtLT1p3W"
      },
      "execution_count": null,
      "outputs": []
    },
    {
      "cell_type": "code",
      "source": [
        "\n",
        "device = \"cuda\" if torch.cuda.is_available() else \"cpu\"\n",
        "\n",
        "gen = Generator(z_dim=z_dim).to(device)\n",
        "disc = Discriminator().to(device)\n",
        "opt_gen = torch.optim.Adam(gen.parameters(), lr=1e-4, betas=(0.5, 0.999))\n",
        "\n",
        "opt_disc = torch.optim.Adam(disc.parameters(), lr=1e-4, betas=(0.5, 0.999))\n",
        "\n",
        "criterion = nn.BCELoss()\n",
        "\n",
        "fixed_noise = torch.randn(64, z_dim, 1, 1).to(device)\n"
      ],
      "metadata": {
        "id": "mRLlbbn72VFk"
      },
      "execution_count": null,
      "outputs": []
    },
    {
      "cell_type": "code",
      "source": [
        "import os\n",
        "\n",
        "checkpoint_dir = \"/content/drive/MyDrive/dcgan_checkpoints\"\n",
        "os.makedirs(checkpoint_dir, exist_ok=True)\n",
        "\n",
        "sample_dir = \"/content/drive/MyDrive/dcgan_samples\"\n",
        "os.makedirs(sample_dir, exist_ok=True)\n"
      ],
      "metadata": {
        "id": "djEgb0CF2cbe"
      },
      "execution_count": null,
      "outputs": []
    },
    {
      "cell_type": "markdown",
      "source": [
        "#Model defined\n"
      ],
      "metadata": {
        "id": "PqGAWpMzWiMq"
      }
    },
    {
      "cell_type": "code",
      "source": [
        "import torch.nn as nn\n",
        "from torch.nn.utils import spectral_norm\n",
        "\n",
        "class Generator(nn.Module):\n",
        "    def __init__(self, z_dim=100, channels_img=3, features_g=32):\n",
        "        super().__init__()\n",
        "        self.net = nn.Sequential(\n",
        "            self._block(z_dim, features_g * 8, 4, 1, 0),\n",
        "            self._block(features_g * 8, features_g * 4, 4, 2, 1),\n",
        "            self._block(features_g * 4, features_g * 2, 4, 2, 1),\n",
        "            self._block(features_g * 2, features_g, 4, 2, 1),\n",
        "            nn.ConvTranspose2d(features_g, channels_img, 4, 2, 1),\n",
        "            nn.Tanh()\n",
        "        )\n",
        "\n",
        "    def _block(self, in_channels, out_channels, k, s, p):\n",
        "        return nn.Sequential(\n",
        "            nn.ConvTranspose2d(in_channels, out_channels, k, s, p, bias=False),\n",
        "            nn.BatchNorm2d(out_channels),\n",
        "            nn.LeakyReLU(0.2, inplace=True)\n",
        "        )\n",
        "\n",
        "    def forward(self, x):\n",
        "        return self.net(x)\n",
        "\n",
        "class Discriminator(nn.Module):\n",
        "    def __init__(self, channels_img=3, features_d=32):\n",
        "        super().__init__()\n",
        "        self.net = nn.Sequential(\n",
        "            spectral_norm(nn.Conv2d(channels_img, features_d, 4, 2, 1)),\n",
        "            nn.LeakyReLU(0.2),\n",
        "            self._block(features_d, features_d * 2, 4, 2, 1),\n",
        "            self._block(features_d * 2, features_d * 4, 4, 2, 1),\n",
        "            self._block(features_d * 4, features_d * 8, 4, 2, 1),\n",
        "            spectral_norm(nn.Conv2d(features_d * 8, 1, 4, 1, 0)),\n",
        "            nn.Sigmoid()\n",
        "        )\n",
        "\n",
        "    def _block(self, in_channels, out_channels, k, s, p):\n",
        "        return nn.Sequential(\n",
        "            spectral_norm(nn.Conv2d(in_channels, out_channels, k, s, p, bias=False)),\n",
        "            nn.BatchNorm2d(out_channels),\n",
        "            nn.LeakyReLU(0.2)\n",
        "        )\n",
        "\n",
        "    def forward(self, x):\n",
        "        return self.net(x)\n"
      ],
      "metadata": {
        "id": "V_8VtDV3WhNx"
      },
      "execution_count": null,
      "outputs": []
    },
    {
      "cell_type": "markdown",
      "source": [
        "Training Setup"
      ],
      "metadata": {
        "id": "24JnwPAIXAWy"
      }
    },
    {
      "cell_type": "code",
      "source": [
        "from torchvision import datasets, transforms\n",
        "from torch.utils.data import DataLoader\n",
        "from torchvision.datasets import ImageFolder\n",
        "\n",
        "image_size = 64\n",
        "batch_size = 128\n",
        "z_dim = 100\n",
        "\n",
        "transform = transforms.Compose([\n",
        "    transforms.Resize(image_size),\n",
        "    transforms.CenterCrop(image_size),\n",
        "    transforms.ToTensor(),\n",
        "    transforms.Normalize([0.5]*3, [0.5]*3)\n",
        "])\n",
        "\n",
        "dataset = ImageFolder(root=\"./vggface2_processed\", transform=transform)\n",
        "dataloader = DataLoader(dataset, batch_size=batch_size, shuffle=True)\n",
        "\n",
        "device = \"cuda\" if torch.cuda.is_available() else \"cpu\"\n",
        "\n",
        "gen = Generator(z_dim=z_dim).to(device)\n",
        "disc = Discriminator().to(device)\n",
        "\n",
        "opt_gen = torch.optim.Adam(gen.parameters(), lr=1e-4, betas=(0.5, 0.999))\n",
        "opt_disc = torch.optim.Adam(disc.parameters(), lr=1e-4, betas=(0.5, 0.999))\n",
        "\n",
        "criterion = nn.BCELoss()\n",
        "fixed_noise = torch.randn(64, z_dim, 1, 1).to(device)\n",
        "\n",
        "checkpoint_dir = \"/content/drive/MyDrive/dcgan_checkpoints\"\n",
        "sample_dir = \"/content/drive/MyDrive/dcgan_samples\"\n",
        "os.makedirs(checkpoint_dir, exist_ok=True)\n",
        "os.makedirs(sample_dir, exist_ok=True)\n"
      ],
      "metadata": {
        "id": "OyOoRuBxW_db"
      },
      "execution_count": null,
      "outputs": []
    },
    {
      "cell_type": "code",
      "source": [
        "import matplotlib.pyplot as plt\n",
        "from PIL import Image\n",
        "\n",
        "def show_generated_image(image_path, epoch):\n",
        "    img = Image.open(image_path)\n",
        "    plt.figure(figsize=(6, 6))\n",
        "    plt.imshow(img)\n",
        "    plt.axis('off')\n",
        "    plt.title(f\"Generated Samples - Epoch {epoch}\")\n",
        "    plt.show()\n",
        "\n",
        "def weights_init(m):\n",
        "    classname = m.__class__.__name__\n",
        "    if classname.find('Conv') != -1:\n",
        "        nn.init.normal_(m.weight.data, 0.0, 0.02)\n",
        "    elif classname.find('BatchNorm') != -1:\n",
        "        nn.init.normal_(m.weight.data, 1.0, 0.02)\n",
        "        nn.init.constant_(m.bias.data, 0)\n",
        "\n",
        "gen.apply(weights_init)\n",
        "disc.apply(weights_init)\n",
        "\n",
        "num_epochs = 100\n",
        "start_epoch = 0\n",
        "best_lossG = float(\"inf\")\n",
        "\n",
        "for epoch in range(start_epoch, num_epochs):\n",
        "    for batch_idx, (real, _) in enumerate(dataloader):\n",
        "        real = real.to(device)\n",
        "        noise = torch.randn(real.size(0), z_dim, 1, 1).to(device)\n",
        "        fake = gen(noise)\n",
        "\n",
        "        real_noisy = real + 0.1 * torch.randn_like(real)\n",
        "        fake_noisy = fake.detach() + 0.1 * torch.randn_like(fake)\n",
        "\n",
        "        disc_real = disc(real_noisy).reshape(-1)\n",
        "        disc_fake = disc(fake_noisy).reshape(-1)\n",
        "\n",
        "        real_labels = torch.full_like(disc_real, 0.9)\n",
        "        fake_labels = torch.zeros_like(disc_fake)\n",
        "\n",
        "        lossD_real = criterion(disc_real, real_labels)\n",
        "        lossD_fake = criterion(disc_fake, fake_labels)\n",
        "        lossD = (lossD_real + lossD_fake) / 2\n",
        "\n",
        "        disc.zero_grad()\n",
        "        lossD.backward()\n",
        "        opt_disc.step()\n",
        "\n",
        "        output = disc(fake).reshape(-1)\n",
        "        gen_labels = torch.ones_like(output)\n",
        "        lossG = criterion(output, gen_labels)\n",
        "\n",
        "        gen.zero_grad()\n",
        "        lossG.backward()\n",
        "        opt_gen.step()\n",
        "\n",
        "        if batch_idx % 100 == 0:\n",
        "            print(f\"[Epoch {epoch+1}/{num_epochs}] [Batch {batch_idx}] \"\n",
        "                  f\"Loss D: {lossD.item():.4f}, Loss G: {lossG.item():.4f}\")\n",
        "\n",
        "    print(f\"[Epoch {epoch+1}/{num_epochs}] Loss D: {lossD:.4f}, Loss G: {lossG:.4f}\")\n",
        "\n",
        "    sample_path = f\"{sample_dir}/epoch_{epoch+1}.png\"\n",
        "    with torch.no_grad():\n",
        "        fake = gen(fixed_noise)\n",
        "        save_image(fake * 0.5 + 0.5, sample_path)\n",
        "\n",
        "    show_generated_image(sample_path, epoch + 1)\n",
        "\n",
        "    if lossG.item() < best_lossG:\n",
        "        best_lossG = lossG.item()\n",
        "        torch.save(gen.state_dict(), f\"{checkpoint_dir}/best_generator.pth\")\n",
        "        print(f\" Best generator saved at epoch {epoch+1} with Loss G: {best_lossG:.4f}\")\n",
        "\n",
        "    if (epoch + 1) % 5 == 0:\n",
        "        torch.save({\n",
        "            'epoch': epoch,\n",
        "            'gen_state_dict': gen.state_dict(),\n",
        "            'disc_state_dict': disc.state_dict(),\n",
        "            'opt_gen_state_dict': opt_gen.state_dict(),\n",
        "            'opt_disc_state_dict': opt_disc.state_dict(),\n",
        "        }, f\"{checkpoint_dir}/dcgan_epoch_{epoch+1}.pth\")\n"
      ],
      "metadata": {
        "colab": {
          "base_uri": "https://localhost:8080/",
          "height": 1000
        },
        "id": "4oSfkJf52e96",
        "outputId": "bd14b2d7-cdff-4082-bc5f-f658fc9cd33a"
      },
      "execution_count": null,
      "outputs": []
    },
    {
      "cell_type": "code",
      "source": [
        "checkpoint_path = \"/content/drive/MyDrive/dcgan_checkpoints/dcgan_epoch_100.pth\"  # Example path\n",
        "resume_training = True  # Set to False if starting from scratch\n",
        "\n",
        "if resume_training and os.path.exists(checkpoint_path):\n",
        "    print(f\"Loading checkpoint from {checkpoint_path}...\")\n",
        "    checkpoint = torch.load(checkpoint_path, map_location=device)\n",
        "\n",
        "    gen.load_state_dict(checkpoint['gen_state_dict'])\n",
        "    disc.load_state_dict(checkpoint['disc_state_dict'])\n",
        "    opt_gen.load_state_dict(checkpoint['opt_gen_state_dict'])\n",
        "    opt_disc.load_state_dict(checkpoint['opt_disc_state_dict'])\n",
        "\n",
        "    start_epoch = checkpoint['epoch'] + 1\n",
        "    print(f\"Resumed from epoch {start_epoch}\")\n",
        "else:\n",
        "    print(\"Starting from scratch...\")\n",
        "    start_epoch = 0\n"
      ],
      "metadata": {
        "colab": {
          "base_uri": "https://localhost:8080/"
        },
        "id": "pLW9qTr-2tc-",
        "outputId": "9ca94c8f-7d86-4f62-8259-0c5a72c52ac2"
      },
      "execution_count": null,
      "outputs": [
        {
          "output_type": "stream",
          "name": "stdout",
          "text": [
            "Loading checkpoint from /content/drive/MyDrive/dcgan_checkpoints/dcgan_epoch_100.pth...\n",
            "Resumed from epoch 100\n"
          ]
        }
      ]
    },
    {
      "cell_type": "code",
      "source": [
        "import os\n",
        "import torch\n",
        "from torchvision.utils import save_image\n",
        "import matplotlib.pyplot as plt\n",
        "from PIL import Image\n",
        "\n",
        "checkpoint_path = \"/content/drive/MyDrive/dcgan_checkpoints/dcgan_epoch_100.pth\"\n",
        "num_epochs = 50\n",
        "z_dim = 100\n",
        "best_lossG = float(\"inf\")\n",
        "\n",
        "if os.path.exists(checkpoint_path):\n",
        "    print(f\"Loading checkpoint: {checkpoint_path}\")\n",
        "    checkpoint = torch.load(checkpoint_path, map_location=device)\n",
        "    gen.load_state_dict(checkpoint['gen_state_dict'])\n",
        "    disc.load_state_dict(checkpoint['disc_state_dict'])\n",
        "    opt_gen.load_state_dict(checkpoint['opt_gen_state_dict'])\n",
        "    opt_disc.load_state_dict(checkpoint['opt_disc_state_dict'])\n",
        "    start_epoch = checkpoint['epoch'] + 1\n",
        "    print(f\"Resumed from epoch {start_epoch}\")\n",
        "else:\n",
        "    print(\"Checkpoint not found. Starting from scratch.\")\n",
        "    start_epoch = 0\n",
        "\n",
        "def show_generated_image(image_path, epoch):\n",
        "    img = Image.open(image_path)\n",
        "    plt.figure(figsize=(6, 6))\n",
        "    plt.imshow(img)\n",
        "    plt.axis('off')\n",
        "    plt.title(f\"Generated Samples - Epoch {epoch}\")\n",
        "    plt.show()\n",
        "\n",
        "for epoch in range(start_epoch, start_epoch + num_epochs):\n",
        "    for batch_idx, (real, _) in enumerate(dataloader):\n",
        "        real = real.to(device)\n",
        "        noise = torch.randn(real.size(0), z_dim, 1, 1).to(device)\n",
        "        fake = gen(noise)\n",
        "\n",
        "        real_noisy = real + 0.1 * torch.randn_like(real)\n",
        "        fake_noisy = fake.detach() + 0.1 * torch.randn_like(fake)\n",
        "\n",
        "        disc_real = disc(real_noisy).reshape(-1)\n",
        "        disc_fake = disc(fake_noisy).reshape(-1)\n",
        "        real_labels = torch.full_like(disc_real, 0.9)\n",
        "        fake_labels = torch.zeros_like(disc_fake)\n",
        "\n",
        "        lossD_real = criterion(disc_real, real_labels)\n",
        "        lossD_fake = criterion(disc_fake, fake_labels)\n",
        "        lossD = (lossD_real + lossD_fake) / 2\n",
        "\n",
        "        disc.zero_grad()\n",
        "        lossD.backward()\n",
        "        opt_disc.step()\n",
        "\n",
        "        output = disc(fake).reshape(-1)\n",
        "        gen_labels = torch.ones_like(output)\n",
        "        lossG = criterion(output, gen_labels)\n",
        "\n",
        "        gen.zero_grad()\n",
        "        lossG.backward()\n",
        "        opt_gen.step()\n",
        "\n",
        "        if batch_idx % 100 == 0:\n",
        "            print(f\"[Epoch {epoch+1}] [Batch {batch_idx}] Loss D: {lossD.item():.4f}, Loss G: {lossG.item():.4f}\")\n",
        "\n",
        "    print(f\" [Epoch {epoch+1}] Final Loss D: {lossD:.4f}, Loss G: {lossG:.4f}\")\n",
        "\n",
        "    sample_path = f\"{sample_dir}/epoch_{epoch+1}.png\"\n",
        "    with torch.no_grad():\n",
        "        fake = gen(fixed_noise)\n",
        "        save_image(fake * 0.5 + 0.5, sample_path)\n",
        "    show_generated_image(sample_path, epoch + 1)\n",
        "\n",
        "    if lossG.item() < best_lossG:\n",
        "        best_lossG = lossG.item()\n",
        "        torch.save(gen.state_dict(), f\"{checkpoint_dir}/best_generator.pth\")\n",
        "        print(f\" Best generator saved at epoch {epoch+1} with Loss G: {best_lossG:.4f}\")\n",
        "\n",
        "    if (epoch + 1) % 5 == 0:\n",
        "        torch.save({\n",
        "            'epoch': epoch,\n",
        "            'gen_state_dict': gen.state_dict(),\n",
        "            'disc_state_dict': disc.state_dict(),\n",
        "            'opt_gen_state_dict': opt_gen.state_dict(),\n",
        "            'opt_disc_state_dict': opt_disc.state_dict(),\n",
        "        }, f\"{checkpoint_dir}/dcgan_epoch_{epoch+1}.pth\")\n"
      ],
      "metadata": {
        "id": "fj_lLN-33iW1",
        "colab": {
          "base_uri": "https://localhost:8080/",
          "height": 1000
        },
        "outputId": "a198e63c-2113-4236-bb1c-2b3c453216b7"
      },
      "execution_count": null,
      "outputs": []
    },
    {
      "cell_type": "code",
      "source": [
        "!pip install pytorch-fid\n"
      ],
      "metadata": {
        "colab": {
          "base_uri": "https://localhost:8080/"
        },
        "id": "NMH-9jDahrvd",
        "outputId": "202e864b-8ff9-4fcb-b23d-ba99b6dfcd78"
      },
      "execution_count": null,
      "outputs": [
        {
          "output_type": "stream",
          "name": "stdout",
          "text": [
            "Collecting pytorch-fid\n",
            "  Downloading pytorch_fid-0.3.0-py3-none-any.whl.metadata (5.3 kB)\n",
            "Requirement already satisfied: numpy in /usr/local/lib/python3.11/dist-packages (from pytorch-fid) (2.0.2)\n",
            "Requirement already satisfied: pillow in /usr/local/lib/python3.11/dist-packages (from pytorch-fid) (11.1.0)\n",
            "Requirement already satisfied: scipy in /usr/local/lib/python3.11/dist-packages (from pytorch-fid) (1.14.1)\n",
            "Requirement already satisfied: torch>=1.0.1 in /usr/local/lib/python3.11/dist-packages (from pytorch-fid) (2.6.0+cu124)\n",
            "Requirement already satisfied: torchvision>=0.2.2 in /usr/local/lib/python3.11/dist-packages (from pytorch-fid) (0.21.0+cu124)\n",
            "Requirement already satisfied: filelock in /usr/local/lib/python3.11/dist-packages (from torch>=1.0.1->pytorch-fid) (3.18.0)\n",
            "Requirement already satisfied: typing-extensions>=4.10.0 in /usr/local/lib/python3.11/dist-packages (from torch>=1.0.1->pytorch-fid) (4.12.2)\n",
            "Requirement already satisfied: networkx in /usr/local/lib/python3.11/dist-packages (from torch>=1.0.1->pytorch-fid) (3.4.2)\n",
            "Requirement already satisfied: jinja2 in /usr/local/lib/python3.11/dist-packages (from torch>=1.0.1->pytorch-fid) (3.1.6)\n",
            "Requirement already satisfied: fsspec in /usr/local/lib/python3.11/dist-packages (from torch>=1.0.1->pytorch-fid) (2025.3.0)\n",
            "Requirement already satisfied: nvidia-cuda-nvrtc-cu12==12.4.127 in /usr/local/lib/python3.11/dist-packages (from torch>=1.0.1->pytorch-fid) (12.4.127)\n",
            "Requirement already satisfied: nvidia-cuda-runtime-cu12==12.4.127 in /usr/local/lib/python3.11/dist-packages (from torch>=1.0.1->pytorch-fid) (12.4.127)\n",
            "Requirement already satisfied: nvidia-cuda-cupti-cu12==12.4.127 in /usr/local/lib/python3.11/dist-packages (from torch>=1.0.1->pytorch-fid) (12.4.127)\n",
            "Requirement already satisfied: nvidia-cudnn-cu12==9.1.0.70 in /usr/local/lib/python3.11/dist-packages (from torch>=1.0.1->pytorch-fid) (9.1.0.70)\n",
            "Requirement already satisfied: nvidia-cublas-cu12==12.4.5.8 in /usr/local/lib/python3.11/dist-packages (from torch>=1.0.1->pytorch-fid) (12.4.5.8)\n",
            "Requirement already satisfied: nvidia-cufft-cu12==11.2.1.3 in /usr/local/lib/python3.11/dist-packages (from torch>=1.0.1->pytorch-fid) (11.2.1.3)\n",
            "Requirement already satisfied: nvidia-curand-cu12==10.3.5.147 in /usr/local/lib/python3.11/dist-packages (from torch>=1.0.1->pytorch-fid) (10.3.5.147)\n",
            "Requirement already satisfied: nvidia-cusolver-cu12==11.6.1.9 in /usr/local/lib/python3.11/dist-packages (from torch>=1.0.1->pytorch-fid) (11.6.1.9)\n",
            "Requirement already satisfied: nvidia-cusparse-cu12==12.3.1.170 in /usr/local/lib/python3.11/dist-packages (from torch>=1.0.1->pytorch-fid) (12.3.1.170)\n",
            "Requirement already satisfied: nvidia-cusparselt-cu12==0.6.2 in /usr/local/lib/python3.11/dist-packages (from torch>=1.0.1->pytorch-fid) (0.6.2)\n",
            "Requirement already satisfied: nvidia-nccl-cu12==2.21.5 in /usr/local/lib/python3.11/dist-packages (from torch>=1.0.1->pytorch-fid) (2.21.5)\n",
            "Requirement already satisfied: nvidia-nvtx-cu12==12.4.127 in /usr/local/lib/python3.11/dist-packages (from torch>=1.0.1->pytorch-fid) (12.4.127)\n",
            "Requirement already satisfied: nvidia-nvjitlink-cu12==12.4.127 in /usr/local/lib/python3.11/dist-packages (from torch>=1.0.1->pytorch-fid) (12.4.127)\n",
            "Requirement already satisfied: triton==3.2.0 in /usr/local/lib/python3.11/dist-packages (from torch>=1.0.1->pytorch-fid) (3.2.0)\n",
            "Requirement already satisfied: sympy==1.13.1 in /usr/local/lib/python3.11/dist-packages (from torch>=1.0.1->pytorch-fid) (1.13.1)\n",
            "Requirement already satisfied: mpmath<1.4,>=1.1.0 in /usr/local/lib/python3.11/dist-packages (from sympy==1.13.1->torch>=1.0.1->pytorch-fid) (1.3.0)\n",
            "Requirement already satisfied: MarkupSafe>=2.0 in /usr/local/lib/python3.11/dist-packages (from jinja2->torch>=1.0.1->pytorch-fid) (3.0.2)\n",
            "Downloading pytorch_fid-0.3.0-py3-none-any.whl (15 kB)\n",
            "Installing collected packages: pytorch-fid\n",
            "Successfully installed pytorch-fid-0.3.0\n"
          ]
        }
      ]
    },
    {
      "cell_type": "code",
      "source": [
        "import os\n",
        "import shutil\n",
        "from torchvision.utils import save_image\n",
        "from glob import glob\n",
        "\n",
        "!mkdir -p fid_real fid_fake"
      ],
      "metadata": {
        "id": "oqHH5IUOmMg_"
      },
      "execution_count": null,
      "outputs": []
    },
    {
      "cell_type": "code",
      "source": [
        "real_images = glob('./vggface2_processed/*/*.png')[:1000]  # or change to 500 for speed\n",
        "for i, path in enumerate(real_images):\n",
        "    shutil.copy(path, f'fid_real/{i}.png')\n"
      ],
      "metadata": {
        "id": "KmjcDN5cmR_s"
      },
      "execution_count": null,
      "outputs": []
    },
    {
      "cell_type": "code",
      "source": [
        "gen.load_state_dict(torch.load(f\"{checkpoint_dir}/best_generator.pth\"))\n",
        "gen.eval()\n",
        "\n",
        "with torch.no_grad():\n",
        "    for i in range(1000):\n",
        "        noise = torch.randn(1, z_dim, 1, 1).to(device)\n",
        "        fake = gen(noise)\n",
        "        save_image(fake * 0.5 + 0.5, f\"fid_fake/{i}.png\")\n"
      ],
      "metadata": {
        "id": "-HewFptkmUDj"
      },
      "execution_count": null,
      "outputs": []
    },
    {
      "cell_type": "code",
      "source": [
        "!python -m pytorch_fid fid_real fid_fake\n"
      ],
      "metadata": {
        "colab": {
          "base_uri": "https://localhost:8080/"
        },
        "id": "LuXqJyWsmV5E",
        "outputId": "fd24e2a4-b1ef-4ef3-90fa-58af4277d5dc"
      },
      "execution_count": null,
      "outputs": [
        {
          "output_type": "stream",
          "name": "stdout",
          "text": [
            "Downloading: \"https://github.com/mseitzer/pytorch-fid/releases/download/fid_weights/pt_inception-2015-12-05-6726825d.pth\" to /root/.cache/torch/hub/checkpoints/pt_inception-2015-12-05-6726825d.pth\n",
            "100% 91.2M/91.2M [00:00<00:00, 285MB/s]\n",
            "100% 20/20 [00:01<00:00, 17.84it/s]\n",
            "100% 20/20 [00:00<00:00, 28.82it/s]\n",
            "FID:  88.12661568589647\n"
          ]
        }
      ]
    },
    {
      "cell_type": "code",
      "source": [
        "import os\n",
        "import torch\n",
        "from torchvision.utils import save_image\n",
        "import shutil\n",
        "from pytorch_fid.fid_score import calculate_fid_given_paths\n",
        "from glob import glob\n",
        "\n",
        "# === Paths ===\n",
        "checkpoint_dir = \"/content/drive/MyDrive/dcgan_checkpoints\"\n",
        "sample_dir = \"/content/fid_temp/generated\"\n",
        "real_dir = \"/content/fid_temp/real\"\n",
        "os.makedirs(sample_dir, exist_ok=True)\n",
        "os.makedirs(real_dir, exist_ok=True)\n",
        "\n",
        "# === Settings ===\n",
        "z_dim = 100\n",
        "device = \"cuda\" if torch.cuda.is_available() else \"cpu\"\n",
        "\n",
        "# === Load Real Images (first time only) ===\n",
        "from glob import glob\n",
        "from PIL import Image\n",
        "from torchvision import transforms\n",
        "\n",
        "real_images = glob('./vggface2_processed/*/*.png')[:1000]\n",
        "transform = transforms.Compose([\n",
        "    transforms.Resize((64, 64)),\n",
        "    transforms.CenterCrop(64),\n",
        "    transforms.ToTensor(),\n",
        "])\n",
        "\n",
        "# Populate real_dir (only once)\n",
        "if len(os.listdir(real_dir)) < 1000:\n",
        "    for i, path in enumerate(real_images):\n",
        "        img = Image.open(path).convert(\"RGB\")\n",
        "        img = transform(img)\n",
        "        save_image(img, f\"{real_dir}/real_{i}.png\")\n",
        "\n",
        "# === Evaluate FID for Models ===\n",
        "fid_scores = {}\n",
        "\n",
        "for epoch in range(100, 150):  # Update as needed\n",
        "    try:\n",
        "        ckpt_path = f\"{checkpoint_dir}/dcgan_epoch_{epoch}.pth\"\n",
        "        print(f\"\\n Evaluating model: {ckpt_path}\")\n",
        "\n",
        "        # Load Generator\n",
        "        checkpoint = torch.load(ckpt_path, map_location=device)\n",
        "        gen.load_state_dict(checkpoint['gen_state_dict'])\n",
        "        gen.eval()\n",
        "\n",
        "        # Clean generated folder\n",
        "        shutil.rmtree(sample_dir)\n",
        "        os.makedirs(sample_dir, exist_ok=True)\n",
        "\n",
        "        # Generate fake images\n",
        "        with torch.no_grad():\n",
        "            for i in range(1000):  # Use 1000 to match real samples\n",
        "                noise = torch.randn(1, z_dim, 1, 1, device=device)\n",
        "                fake_img = gen(noise).detach().cpu()\n",
        "                save_image(fake_img * 0.5 + 0.5, f\"{sample_dir}/fake_{i}.png\")\n",
        "\n",
        "        # Calculate FID\n",
        "        fid = calculate_fid_given_paths([sample_dir, real_dir], batch_size=32, device=device, dims=2048)\n",
        "        fid_scores[epoch] = fid\n",
        "        print(f\" FID for epoch {epoch}: {fid:.4f}\")\n",
        "\n",
        "    except Exception as e:\n",
        "        print(f\" Error at epoch {epoch}: {e}\")\n",
        "\n",
        "# === Show Best Result ===\n",
        "if fid_scores:\n",
        "    best_epoch = min(fid_scores, key=fid_scores.get)\n",
        "    print(\"\\n BEST MODEL:\")\n",
        "    print(f\"Epoch {best_epoch} with FID: {fid_scores[best_epoch]:.4f}\")\n",
        "\n",
        "    # Save FID results\n",
        "    with open(\"fid_results.txt\", \"w\") as f:\n",
        "        for epoch, fid in fid_scores.items():\n",
        "            f.write(f\"Epoch {epoch}: FID = {fid:.4f}\\n\")\n",
        "        f.write(f\"\\nBest Epoch: {best_epoch} | FID = {fid_scores[best_epoch]:.4f}\\n\")\n",
        "else:\n",
        "    print(\" No FID scores were computed.\")\n"
      ],
      "metadata": {
        "colab": {
          "base_uri": "https://localhost:8080/"
        },
        "id": "li79QPHAmYMO",
        "outputId": "8d93af03-d541-43f5-b792-d343735d7781"
      },
      "execution_count": null,
      "outputs": [
        {
          "output_type": "stream",
          "name": "stdout",
          "text": [
            "\n",
            " Evaluating model: /content/drive/MyDrive/dcgan_checkpoints/dcgan_epoch_100.pth\n"
          ]
        },
        {
          "output_type": "stream",
          "name": "stderr",
          "text": [
            "100%|██████████| 32/32 [00:00<00:00, 44.33it/s]\n",
            "100%|██████████| 32/32 [00:00<00:00, 46.04it/s]\n"
          ]
        },
        {
          "output_type": "stream",
          "name": "stdout",
          "text": [
            " FID for epoch 100: 93.1466\n",
            "\n",
            " Evaluating model: /content/drive/MyDrive/dcgan_checkpoints/dcgan_epoch_101.pth\n",
            " Error at epoch 101: [Errno 2] No such file or directory: '/content/drive/MyDrive/dcgan_checkpoints/dcgan_epoch_101.pth'\n",
            "\n",
            " Evaluating model: /content/drive/MyDrive/dcgan_checkpoints/dcgan_epoch_102.pth\n",
            " Error at epoch 102: [Errno 2] No such file or directory: '/content/drive/MyDrive/dcgan_checkpoints/dcgan_epoch_102.pth'\n",
            "\n",
            " Evaluating model: /content/drive/MyDrive/dcgan_checkpoints/dcgan_epoch_103.pth\n",
            " Error at epoch 103: [Errno 2] No such file or directory: '/content/drive/MyDrive/dcgan_checkpoints/dcgan_epoch_103.pth'\n",
            "\n",
            " Evaluating model: /content/drive/MyDrive/dcgan_checkpoints/dcgan_epoch_104.pth\n",
            " Error at epoch 104: [Errno 2] No such file or directory: '/content/drive/MyDrive/dcgan_checkpoints/dcgan_epoch_104.pth'\n",
            "\n",
            " Evaluating model: /content/drive/MyDrive/dcgan_checkpoints/dcgan_epoch_105.pth\n"
          ]
        },
        {
          "output_type": "stream",
          "name": "stderr",
          "text": [
            "100%|██████████| 32/32 [00:00<00:00, 45.15it/s]\n",
            "100%|██████████| 32/32 [00:00<00:00, 47.34it/s]\n"
          ]
        },
        {
          "output_type": "stream",
          "name": "stdout",
          "text": [
            " FID for epoch 105: 87.7902\n",
            "\n",
            " Evaluating model: /content/drive/MyDrive/dcgan_checkpoints/dcgan_epoch_106.pth\n",
            " Error at epoch 106: [Errno 2] No such file or directory: '/content/drive/MyDrive/dcgan_checkpoints/dcgan_epoch_106.pth'\n",
            "\n",
            " Evaluating model: /content/drive/MyDrive/dcgan_checkpoints/dcgan_epoch_107.pth\n",
            " Error at epoch 107: [Errno 2] No such file or directory: '/content/drive/MyDrive/dcgan_checkpoints/dcgan_epoch_107.pth'\n",
            "\n",
            " Evaluating model: /content/drive/MyDrive/dcgan_checkpoints/dcgan_epoch_108.pth\n",
            " Error at epoch 108: [Errno 2] No such file or directory: '/content/drive/MyDrive/dcgan_checkpoints/dcgan_epoch_108.pth'\n",
            "\n",
            " Evaluating model: /content/drive/MyDrive/dcgan_checkpoints/dcgan_epoch_109.pth\n",
            " Error at epoch 109: [Errno 2] No such file or directory: '/content/drive/MyDrive/dcgan_checkpoints/dcgan_epoch_109.pth'\n",
            "\n",
            " Evaluating model: /content/drive/MyDrive/dcgan_checkpoints/dcgan_epoch_110.pth\n"
          ]
        },
        {
          "output_type": "stream",
          "name": "stderr",
          "text": [
            "100%|██████████| 32/32 [00:00<00:00, 44.86it/s]\n",
            "100%|██████████| 32/32 [00:00<00:00, 47.31it/s]\n"
          ]
        },
        {
          "output_type": "stream",
          "name": "stdout",
          "text": [
            " FID for epoch 110: 87.0377\n",
            "\n",
            " Evaluating model: /content/drive/MyDrive/dcgan_checkpoints/dcgan_epoch_111.pth\n",
            " Error at epoch 111: [Errno 2] No such file or directory: '/content/drive/MyDrive/dcgan_checkpoints/dcgan_epoch_111.pth'\n",
            "\n",
            " Evaluating model: /content/drive/MyDrive/dcgan_checkpoints/dcgan_epoch_112.pth\n",
            " Error at epoch 112: [Errno 2] No such file or directory: '/content/drive/MyDrive/dcgan_checkpoints/dcgan_epoch_112.pth'\n",
            "\n",
            " Evaluating model: /content/drive/MyDrive/dcgan_checkpoints/dcgan_epoch_113.pth\n",
            " Error at epoch 113: [Errno 2] No such file or directory: '/content/drive/MyDrive/dcgan_checkpoints/dcgan_epoch_113.pth'\n",
            "\n",
            " Evaluating model: /content/drive/MyDrive/dcgan_checkpoints/dcgan_epoch_114.pth\n",
            " Error at epoch 114: [Errno 2] No such file or directory: '/content/drive/MyDrive/dcgan_checkpoints/dcgan_epoch_114.pth'\n",
            "\n",
            " Evaluating model: /content/drive/MyDrive/dcgan_checkpoints/dcgan_epoch_115.pth\n"
          ]
        },
        {
          "output_type": "stream",
          "name": "stderr",
          "text": [
            "100%|██████████| 32/32 [00:00<00:00, 45.00it/s]\n",
            "100%|██████████| 32/32 [00:00<00:00, 45.97it/s]\n"
          ]
        },
        {
          "output_type": "stream",
          "name": "stdout",
          "text": [
            " FID for epoch 115: 88.7585\n",
            "\n",
            " Evaluating model: /content/drive/MyDrive/dcgan_checkpoints/dcgan_epoch_116.pth\n",
            " Error at epoch 116: [Errno 2] No such file or directory: '/content/drive/MyDrive/dcgan_checkpoints/dcgan_epoch_116.pth'\n",
            "\n",
            " Evaluating model: /content/drive/MyDrive/dcgan_checkpoints/dcgan_epoch_117.pth\n",
            " Error at epoch 117: [Errno 2] No such file or directory: '/content/drive/MyDrive/dcgan_checkpoints/dcgan_epoch_117.pth'\n",
            "\n",
            " Evaluating model: /content/drive/MyDrive/dcgan_checkpoints/dcgan_epoch_118.pth\n",
            " Error at epoch 118: [Errno 2] No such file or directory: '/content/drive/MyDrive/dcgan_checkpoints/dcgan_epoch_118.pth'\n",
            "\n",
            " Evaluating model: /content/drive/MyDrive/dcgan_checkpoints/dcgan_epoch_119.pth\n",
            " Error at epoch 119: [Errno 2] No such file or directory: '/content/drive/MyDrive/dcgan_checkpoints/dcgan_epoch_119.pth'\n",
            "\n",
            " Evaluating model: /content/drive/MyDrive/dcgan_checkpoints/dcgan_epoch_120.pth\n"
          ]
        },
        {
          "output_type": "stream",
          "name": "stderr",
          "text": [
            "100%|██████████| 32/32 [00:00<00:00, 44.81it/s]\n",
            "100%|██████████| 32/32 [00:00<00:00, 46.85it/s]\n"
          ]
        },
        {
          "output_type": "stream",
          "name": "stdout",
          "text": [
            " FID for epoch 120: 88.7516\n",
            "\n",
            " Evaluating model: /content/drive/MyDrive/dcgan_checkpoints/dcgan_epoch_121.pth\n",
            " Error at epoch 121: [Errno 2] No such file or directory: '/content/drive/MyDrive/dcgan_checkpoints/dcgan_epoch_121.pth'\n",
            "\n",
            " Evaluating model: /content/drive/MyDrive/dcgan_checkpoints/dcgan_epoch_122.pth\n",
            " Error at epoch 122: [Errno 2] No such file or directory: '/content/drive/MyDrive/dcgan_checkpoints/dcgan_epoch_122.pth'\n",
            "\n",
            " Evaluating model: /content/drive/MyDrive/dcgan_checkpoints/dcgan_epoch_123.pth\n",
            " Error at epoch 123: [Errno 2] No such file or directory: '/content/drive/MyDrive/dcgan_checkpoints/dcgan_epoch_123.pth'\n",
            "\n",
            " Evaluating model: /content/drive/MyDrive/dcgan_checkpoints/dcgan_epoch_124.pth\n",
            " Error at epoch 124: [Errno 2] No such file or directory: '/content/drive/MyDrive/dcgan_checkpoints/dcgan_epoch_124.pth'\n",
            "\n",
            " Evaluating model: /content/drive/MyDrive/dcgan_checkpoints/dcgan_epoch_125.pth\n"
          ]
        },
        {
          "output_type": "stream",
          "name": "stderr",
          "text": [
            "100%|██████████| 32/32 [00:00<00:00, 44.51it/s]\n",
            "100%|██████████| 32/32 [00:00<00:00, 42.90it/s]\n"
          ]
        },
        {
          "output_type": "stream",
          "name": "stdout",
          "text": [
            " FID for epoch 125: 87.8704\n",
            "\n",
            " Evaluating model: /content/drive/MyDrive/dcgan_checkpoints/dcgan_epoch_126.pth\n",
            " Error at epoch 126: [Errno 2] No such file or directory: '/content/drive/MyDrive/dcgan_checkpoints/dcgan_epoch_126.pth'\n",
            "\n",
            " Evaluating model: /content/drive/MyDrive/dcgan_checkpoints/dcgan_epoch_127.pth\n",
            " Error at epoch 127: [Errno 2] No such file or directory: '/content/drive/MyDrive/dcgan_checkpoints/dcgan_epoch_127.pth'\n",
            "\n",
            " Evaluating model: /content/drive/MyDrive/dcgan_checkpoints/dcgan_epoch_128.pth\n",
            " Error at epoch 128: [Errno 2] No such file or directory: '/content/drive/MyDrive/dcgan_checkpoints/dcgan_epoch_128.pth'\n",
            "\n",
            " Evaluating model: /content/drive/MyDrive/dcgan_checkpoints/dcgan_epoch_129.pth\n",
            " Error at epoch 129: [Errno 2] No such file or directory: '/content/drive/MyDrive/dcgan_checkpoints/dcgan_epoch_129.pth'\n",
            "\n",
            " Evaluating model: /content/drive/MyDrive/dcgan_checkpoints/dcgan_epoch_130.pth\n"
          ]
        },
        {
          "output_type": "stream",
          "name": "stderr",
          "text": [
            "100%|██████████| 32/32 [00:00<00:00, 43.33it/s]\n",
            "100%|██████████| 32/32 [00:00<00:00, 45.04it/s]\n"
          ]
        },
        {
          "output_type": "stream",
          "name": "stdout",
          "text": [
            " FID for epoch 130: 86.7373\n",
            "\n",
            " Evaluating model: /content/drive/MyDrive/dcgan_checkpoints/dcgan_epoch_131.pth\n",
            " Error at epoch 131: [Errno 2] No such file or directory: '/content/drive/MyDrive/dcgan_checkpoints/dcgan_epoch_131.pth'\n",
            "\n",
            " Evaluating model: /content/drive/MyDrive/dcgan_checkpoints/dcgan_epoch_132.pth\n",
            " Error at epoch 132: [Errno 2] No such file or directory: '/content/drive/MyDrive/dcgan_checkpoints/dcgan_epoch_132.pth'\n",
            "\n",
            " Evaluating model: /content/drive/MyDrive/dcgan_checkpoints/dcgan_epoch_133.pth\n",
            " Error at epoch 133: [Errno 2] No such file or directory: '/content/drive/MyDrive/dcgan_checkpoints/dcgan_epoch_133.pth'\n",
            "\n",
            " Evaluating model: /content/drive/MyDrive/dcgan_checkpoints/dcgan_epoch_134.pth\n",
            " Error at epoch 134: [Errno 2] No such file or directory: '/content/drive/MyDrive/dcgan_checkpoints/dcgan_epoch_134.pth'\n",
            "\n",
            " Evaluating model: /content/drive/MyDrive/dcgan_checkpoints/dcgan_epoch_135.pth\n"
          ]
        },
        {
          "output_type": "stream",
          "name": "stderr",
          "text": [
            "100%|██████████| 32/32 [00:00<00:00, 45.38it/s]\n",
            "100%|██████████| 32/32 [00:00<00:00, 46.37it/s]\n"
          ]
        },
        {
          "output_type": "stream",
          "name": "stdout",
          "text": [
            " FID for epoch 135: 88.0372\n",
            "\n",
            " Evaluating model: /content/drive/MyDrive/dcgan_checkpoints/dcgan_epoch_136.pth\n",
            " Error at epoch 136: [Errno 2] No such file or directory: '/content/drive/MyDrive/dcgan_checkpoints/dcgan_epoch_136.pth'\n",
            "\n",
            " Evaluating model: /content/drive/MyDrive/dcgan_checkpoints/dcgan_epoch_137.pth\n",
            " Error at epoch 137: [Errno 2] No such file or directory: '/content/drive/MyDrive/dcgan_checkpoints/dcgan_epoch_137.pth'\n",
            "\n",
            " Evaluating model: /content/drive/MyDrive/dcgan_checkpoints/dcgan_epoch_138.pth\n",
            " Error at epoch 138: [Errno 2] No such file or directory: '/content/drive/MyDrive/dcgan_checkpoints/dcgan_epoch_138.pth'\n",
            "\n",
            " Evaluating model: /content/drive/MyDrive/dcgan_checkpoints/dcgan_epoch_139.pth\n",
            " Error at epoch 139: [Errno 2] No such file or directory: '/content/drive/MyDrive/dcgan_checkpoints/dcgan_epoch_139.pth'\n",
            "\n",
            " Evaluating model: /content/drive/MyDrive/dcgan_checkpoints/dcgan_epoch_140.pth\n"
          ]
        },
        {
          "output_type": "stream",
          "name": "stderr",
          "text": [
            "100%|██████████| 32/32 [00:00<00:00, 44.41it/s]\n",
            "100%|██████████| 32/32 [00:00<00:00, 46.52it/s]\n"
          ]
        },
        {
          "output_type": "stream",
          "name": "stdout",
          "text": [
            " FID for epoch 140: 88.4853\n",
            "\n",
            " Evaluating model: /content/drive/MyDrive/dcgan_checkpoints/dcgan_epoch_141.pth\n",
            " Error at epoch 141: [Errno 2] No such file or directory: '/content/drive/MyDrive/dcgan_checkpoints/dcgan_epoch_141.pth'\n",
            "\n",
            " Evaluating model: /content/drive/MyDrive/dcgan_checkpoints/dcgan_epoch_142.pth\n",
            " Error at epoch 142: [Errno 2] No such file or directory: '/content/drive/MyDrive/dcgan_checkpoints/dcgan_epoch_142.pth'\n",
            "\n",
            " Evaluating model: /content/drive/MyDrive/dcgan_checkpoints/dcgan_epoch_143.pth\n",
            " Error at epoch 143: [Errno 2] No such file or directory: '/content/drive/MyDrive/dcgan_checkpoints/dcgan_epoch_143.pth'\n",
            "\n",
            " Evaluating model: /content/drive/MyDrive/dcgan_checkpoints/dcgan_epoch_144.pth\n",
            " Error at epoch 144: [Errno 2] No such file or directory: '/content/drive/MyDrive/dcgan_checkpoints/dcgan_epoch_144.pth'\n",
            "\n",
            " Evaluating model: /content/drive/MyDrive/dcgan_checkpoints/dcgan_epoch_145.pth\n"
          ]
        },
        {
          "output_type": "stream",
          "name": "stderr",
          "text": [
            "100%|██████████| 32/32 [00:00<00:00, 45.72it/s]\n",
            "100%|██████████| 32/32 [00:00<00:00, 46.80it/s]\n"
          ]
        },
        {
          "output_type": "stream",
          "name": "stdout",
          "text": [
            " FID for epoch 145: 83.3406\n",
            "\n",
            " Evaluating model: /content/drive/MyDrive/dcgan_checkpoints/dcgan_epoch_146.pth\n",
            " Error at epoch 146: [Errno 2] No such file or directory: '/content/drive/MyDrive/dcgan_checkpoints/dcgan_epoch_146.pth'\n",
            "\n",
            " Evaluating model: /content/drive/MyDrive/dcgan_checkpoints/dcgan_epoch_147.pth\n",
            " Error at epoch 147: [Errno 2] No such file or directory: '/content/drive/MyDrive/dcgan_checkpoints/dcgan_epoch_147.pth'\n",
            "\n",
            " Evaluating model: /content/drive/MyDrive/dcgan_checkpoints/dcgan_epoch_148.pth\n",
            " Error at epoch 148: [Errno 2] No such file or directory: '/content/drive/MyDrive/dcgan_checkpoints/dcgan_epoch_148.pth'\n",
            "\n",
            " Evaluating model: /content/drive/MyDrive/dcgan_checkpoints/dcgan_epoch_149.pth\n",
            " Error at epoch 149: [Errno 2] No such file or directory: '/content/drive/MyDrive/dcgan_checkpoints/dcgan_epoch_149.pth'\n",
            "\n",
            " BEST MODEL:\n",
            "Epoch 145 with FID: 83.3406\n"
          ]
        }
      ]
    },
    {
      "cell_type": "code",
      "source": [
        "import os\n",
        "import torch\n",
        "from torchvision.utils import save_image\n",
        "import matplotlib.pyplot as plt\n",
        "from PIL import Image\n",
        "\n",
        "checkpoint_path = \"/content/drive/MyDrive/dcgan_checkpoints/dcgan_epoch_145.pth\"\n",
        "num_epochs = 50\n",
        "z_dim = 100\n",
        "best_lossG = float(\"inf\")\n",
        "\n",
        "if os.path.exists(checkpoint_path):\n",
        "    print(f\"Loading checkpoint: {checkpoint_path}\")\n",
        "    checkpoint = torch.load(checkpoint_path, map_location=device)\n",
        "    gen.load_state_dict(checkpoint['gen_state_dict'])\n",
        "    disc.load_state_dict(checkpoint['disc_state_dict'])\n",
        "    opt_gen.load_state_dict(checkpoint['opt_gen_state_dict'])\n",
        "    opt_disc.load_state_dict(checkpoint['opt_disc_state_dict'])\n",
        "    start_epoch = checkpoint['epoch'] + 1\n",
        "    print(f\"Resumed from epoch {start_epoch}\")\n",
        "else:\n",
        "    print(\"Checkpoint not found. Starting from scratch.\")\n",
        "    start_epoch = 0\n",
        "\n",
        "def show_generated_image(image_path, epoch):\n",
        "    img = Image.open(image_path)\n",
        "    plt.figure(figsize=(6, 6))\n",
        "    plt.imshow(img)\n",
        "    plt.axis('off')\n",
        "    plt.title(f\"Generated Samples - Epoch {epoch}\")\n",
        "    plt.show()\n",
        "\n",
        "for epoch in range(start_epoch, start_epoch + num_epochs):\n",
        "    for batch_idx, (real, _) in enumerate(dataloader):\n",
        "        real = real.to(device)\n",
        "        noise = torch.randn(real.size(0), z_dim, 1, 1).to(device)\n",
        "        fake = gen(noise)\n",
        "\n",
        "        real_noisy = real + 0.1 * torch.randn_like(real)\n",
        "        fake_noisy = fake.detach() + 0.1 * torch.randn_like(fake)\n",
        "\n",
        "        disc_real = disc(real_noisy).reshape(-1)\n",
        "        disc_fake = disc(fake_noisy).reshape(-1)\n",
        "        real_labels = torch.full_like(disc_real, 0.9)\n",
        "        fake_labels = torch.zeros_like(disc_fake)\n",
        "\n",
        "        lossD_real = criterion(disc_real, real_labels)\n",
        "        lossD_fake = criterion(disc_fake, fake_labels)\n",
        "        lossD = (lossD_real + lossD_fake) / 2\n",
        "\n",
        "        disc.zero_grad()\n",
        "        lossD.backward()\n",
        "        opt_disc.step()\n",
        "\n",
        "        output = disc(fake).reshape(-1)\n",
        "        gen_labels = torch.ones_like(output)\n",
        "        lossG = criterion(output, gen_labels)\n",
        "\n",
        "        gen.zero_grad()\n",
        "        lossG.backward()\n",
        "        opt_gen.step()\n",
        "\n",
        "        if batch_idx % 100 == 0:\n",
        "            print(f\"[Epoch {epoch+1}] [Batch {batch_idx}] Loss D: {lossD.item():.4f}, Loss G: {lossG.item():.4f}\")\n",
        "\n",
        "    print(f\" [Epoch {epoch+1}] Final Loss D: {lossD:.4f}, Loss G: {lossG:.4f}\")\n",
        "\n",
        "    sample_path = f\"{sample_dir}/epoch_{epoch+1}.png\"\n",
        "    with torch.no_grad():\n",
        "        fake = gen(fixed_noise)\n",
        "        save_image(fake * 0.5 + 0.5, sample_path)\n",
        "    show_generated_image(sample_path, epoch + 1)\n",
        "\n",
        "    if lossG.item() < best_lossG:\n",
        "        best_lossG = lossG.item()\n",
        "        torch.save(gen.state_dict(), f\"{checkpoint_dir}/best_generator.pth\")\n",
        "        print(f\" Best generator saved at epoch {epoch+1} with Loss G: {best_lossG:.4f}\")\n",
        "\n",
        "    if (epoch + 1) % 5 == 0:\n",
        "        torch.save({\n",
        "            'epoch': epoch,\n",
        "            'gen_state_dict': gen.state_dict(),\n",
        "            'disc_state_dict': disc.state_dict(),\n",
        "            'opt_gen_state_dict': opt_gen.state_dict(),\n",
        "            'opt_disc_state_dict': opt_disc.state_dict(),\n",
        "        }, f\"{checkpoint_dir}/dcgan_epoch_{epoch+1}.pth\")\n"
      ],
      "metadata": {
        "colab": {
          "base_uri": "https://localhost:8080/",
          "height": 1000
        },
        "id": "HDv_wnhvpwDl",
        "outputId": "9d165007-07f0-4390-e435-4ca4d7083fd7"
      },
      "execution_count": null,
      "outputs": []
    },
    {
      "cell_type": "code",
      "source": [
        "import os\n",
        "import torch\n",
        "from torchvision.utils import save_image\n",
        "import shutil\n",
        "from pytorch_fid.fid_score import calculate_fid_given_paths\n",
        "from glob import glob\n",
        "\n",
        "# === Paths ===\n",
        "checkpoint_dir = \"/content/drive/MyDrive/dcgan_checkpoints\"\n",
        "sample_dir = \"/content/fid_temp/generated\"\n",
        "real_dir = \"/content/fid_temp/real\"\n",
        "os.makedirs(sample_dir, exist_ok=True)\n",
        "os.makedirs(real_dir, exist_ok=True)\n",
        "\n",
        "# === Settings ===\n",
        "z_dim = 100\n",
        "device = \"cuda\" if torch.cuda.is_available() else \"cpu\"\n",
        "\n",
        "# === Load Real Images (first time only) ===\n",
        "from glob import glob\n",
        "from PIL import Image\n",
        "from torchvision import transforms\n",
        "\n",
        "real_images = glob('./vggface2_processed/*/*.png')[:1000]\n",
        "transform = transforms.Compose([\n",
        "    transforms.Resize((64, 64)),\n",
        "    transforms.CenterCrop(64),\n",
        "    transforms.ToTensor(),\n",
        "])\n",
        "\n",
        "# Populate real_dir (only once)\n",
        "if len(os.listdir(real_dir)) < 1000:\n",
        "    for i, path in enumerate(real_images):\n",
        "        img = Image.open(path).convert(\"RGB\")\n",
        "        img = transform(img)\n",
        "        save_image(img, f\"{real_dir}/real_{i}.png\")\n",
        "\n",
        "# === Evaluate FID for Models ===\n",
        "fid_scores = {}\n",
        "\n",
        "for epoch in range(145, 195):  # Update as needed\n",
        "    try:\n",
        "        ckpt_path = f\"{checkpoint_dir}/dcgan_epoch_{epoch}.pth\"\n",
        "        print(f\"\\n Evaluating model: {ckpt_path}\")\n",
        "\n",
        "        # Load Generator\n",
        "        checkpoint = torch.load(ckpt_path, map_location=device)\n",
        "        gen.load_state_dict(checkpoint['gen_state_dict'])\n",
        "        gen.eval()\n",
        "\n",
        "        # Clean generated folder\n",
        "        shutil.rmtree(sample_dir)\n",
        "        os.makedirs(sample_dir, exist_ok=True)\n",
        "\n",
        "        # Generate fake images\n",
        "        with torch.no_grad():\n",
        "            for i in range(1000):  # Use 1000 to match real samples\n",
        "                noise = torch.randn(1, z_dim, 1, 1, device=device)\n",
        "                fake_img = gen(noise).detach().cpu()\n",
        "                save_image(fake_img * 0.5 + 0.5, f\"{sample_dir}/fake_{i}.png\")\n",
        "\n",
        "        # Calculate FID\n",
        "        fid = calculate_fid_given_paths([sample_dir, real_dir], batch_size=32, device=device, dims=2048)\n",
        "        fid_scores[epoch] = fid\n",
        "        print(f\" FID for epoch {epoch}: {fid:.4f}\")\n",
        "\n",
        "    except Exception as e:\n",
        "        print(f\" Error at epoch {epoch}: {e}\")\n",
        "\n",
        "# === Show Best Result ===\n",
        "if fid_scores:\n",
        "    best_epoch = min(fid_scores, key=fid_scores.get)\n",
        "    print(\"\\n BEST MODEL:\")\n",
        "    print(f\"Epoch {best_epoch} with FID: {fid_scores[best_epoch]:.4f}\")\n",
        "\n",
        "    # Save FID results\n",
        "    with open(\"fid_results.txt\", \"w\") as f:\n",
        "        for epoch, fid in fid_scores.items():\n",
        "            f.write(f\"Epoch {epoch}: FID = {fid:.4f}\\n\")\n",
        "        f.write(f\"\\nBest Epoch: {best_epoch} | FID = {fid_scores[best_epoch]:.4f}\\n\")\n",
        "else:\n",
        "    print(\" No FID scores were computed.\")\n"
      ],
      "metadata": {
        "colab": {
          "base_uri": "https://localhost:8080/"
        },
        "id": "0sg6HYqZsUmU",
        "outputId": "54d70fbf-15e8-4ceb-ebfd-d9e92c83654f"
      },
      "execution_count": null,
      "outputs": [
        {
          "output_type": "stream",
          "name": "stdout",
          "text": [
            "\n",
            " Evaluating model: /content/drive/MyDrive/dcgan_checkpoints/dcgan_epoch_145.pth\n"
          ]
        },
        {
          "output_type": "stream",
          "name": "stderr",
          "text": [
            "100%|██████████| 32/32 [00:00<00:00, 44.59it/s]\n",
            "100%|██████████| 32/32 [00:00<00:00, 46.46it/s]\n"
          ]
        },
        {
          "output_type": "stream",
          "name": "stdout",
          "text": [
            " FID for epoch 145: 83.0775\n",
            "\n",
            " Evaluating model: /content/drive/MyDrive/dcgan_checkpoints/dcgan_epoch_146.pth\n",
            " Error at epoch 146: [Errno 2] No such file or directory: '/content/drive/MyDrive/dcgan_checkpoints/dcgan_epoch_146.pth'\n",
            "\n",
            " Evaluating model: /content/drive/MyDrive/dcgan_checkpoints/dcgan_epoch_147.pth\n",
            " Error at epoch 147: [Errno 2] No such file or directory: '/content/drive/MyDrive/dcgan_checkpoints/dcgan_epoch_147.pth'\n",
            "\n",
            " Evaluating model: /content/drive/MyDrive/dcgan_checkpoints/dcgan_epoch_148.pth\n",
            " Error at epoch 148: [Errno 2] No such file or directory: '/content/drive/MyDrive/dcgan_checkpoints/dcgan_epoch_148.pth'\n",
            "\n",
            " Evaluating model: /content/drive/MyDrive/dcgan_checkpoints/dcgan_epoch_149.pth\n",
            " Error at epoch 149: [Errno 2] No such file or directory: '/content/drive/MyDrive/dcgan_checkpoints/dcgan_epoch_149.pth'\n",
            "\n",
            " Evaluating model: /content/drive/MyDrive/dcgan_checkpoints/dcgan_epoch_150.pth\n"
          ]
        },
        {
          "output_type": "stream",
          "name": "stderr",
          "text": [
            "100%|██████████| 32/32 [00:00<00:00, 45.70it/s]\n",
            "100%|██████████| 32/32 [00:00<00:00, 40.06it/s]\n"
          ]
        },
        {
          "output_type": "stream",
          "name": "stdout",
          "text": [
            " FID for epoch 150: 81.2912\n",
            "\n",
            " Evaluating model: /content/drive/MyDrive/dcgan_checkpoints/dcgan_epoch_151.pth\n",
            " Error at epoch 151: [Errno 2] No such file or directory: '/content/drive/MyDrive/dcgan_checkpoints/dcgan_epoch_151.pth'\n",
            "\n",
            " Evaluating model: /content/drive/MyDrive/dcgan_checkpoints/dcgan_epoch_152.pth\n",
            " Error at epoch 152: [Errno 2] No such file or directory: '/content/drive/MyDrive/dcgan_checkpoints/dcgan_epoch_152.pth'\n",
            "\n",
            " Evaluating model: /content/drive/MyDrive/dcgan_checkpoints/dcgan_epoch_153.pth\n",
            " Error at epoch 153: [Errno 2] No such file or directory: '/content/drive/MyDrive/dcgan_checkpoints/dcgan_epoch_153.pth'\n",
            "\n",
            " Evaluating model: /content/drive/MyDrive/dcgan_checkpoints/dcgan_epoch_154.pth\n",
            " Error at epoch 154: [Errno 2] No such file or directory: '/content/drive/MyDrive/dcgan_checkpoints/dcgan_epoch_154.pth'\n",
            "\n",
            " Evaluating model: /content/drive/MyDrive/dcgan_checkpoints/dcgan_epoch_155.pth\n"
          ]
        },
        {
          "output_type": "stream",
          "name": "stderr",
          "text": [
            "100%|██████████| 32/32 [00:00<00:00, 46.11it/s]\n",
            "100%|██████████| 32/32 [00:00<00:00, 43.72it/s]\n"
          ]
        },
        {
          "output_type": "stream",
          "name": "stdout",
          "text": [
            " FID for epoch 155: 82.1862\n",
            "\n",
            " Evaluating model: /content/drive/MyDrive/dcgan_checkpoints/dcgan_epoch_156.pth\n",
            " Error at epoch 156: [Errno 2] No such file or directory: '/content/drive/MyDrive/dcgan_checkpoints/dcgan_epoch_156.pth'\n",
            "\n",
            " Evaluating model: /content/drive/MyDrive/dcgan_checkpoints/dcgan_epoch_157.pth\n",
            " Error at epoch 157: [Errno 2] No such file or directory: '/content/drive/MyDrive/dcgan_checkpoints/dcgan_epoch_157.pth'\n",
            "\n",
            " Evaluating model: /content/drive/MyDrive/dcgan_checkpoints/dcgan_epoch_158.pth\n",
            " Error at epoch 158: [Errno 2] No such file or directory: '/content/drive/MyDrive/dcgan_checkpoints/dcgan_epoch_158.pth'\n",
            "\n",
            " Evaluating model: /content/drive/MyDrive/dcgan_checkpoints/dcgan_epoch_159.pth\n",
            " Error at epoch 159: [Errno 2] No such file or directory: '/content/drive/MyDrive/dcgan_checkpoints/dcgan_epoch_159.pth'\n",
            "\n",
            " Evaluating model: /content/drive/MyDrive/dcgan_checkpoints/dcgan_epoch_160.pth\n"
          ]
        },
        {
          "output_type": "stream",
          "name": "stderr",
          "text": [
            "100%|██████████| 32/32 [00:00<00:00, 45.88it/s]\n",
            "100%|██████████| 32/32 [00:00<00:00, 46.90it/s]\n"
          ]
        },
        {
          "output_type": "stream",
          "name": "stdout",
          "text": [
            " FID for epoch 160: 80.8671\n",
            "\n",
            " Evaluating model: /content/drive/MyDrive/dcgan_checkpoints/dcgan_epoch_161.pth\n",
            " Error at epoch 161: [Errno 2] No such file or directory: '/content/drive/MyDrive/dcgan_checkpoints/dcgan_epoch_161.pth'\n",
            "\n",
            " Evaluating model: /content/drive/MyDrive/dcgan_checkpoints/dcgan_epoch_162.pth\n",
            " Error at epoch 162: [Errno 2] No such file or directory: '/content/drive/MyDrive/dcgan_checkpoints/dcgan_epoch_162.pth'\n",
            "\n",
            " Evaluating model: /content/drive/MyDrive/dcgan_checkpoints/dcgan_epoch_163.pth\n",
            " Error at epoch 163: [Errno 2] No such file or directory: '/content/drive/MyDrive/dcgan_checkpoints/dcgan_epoch_163.pth'\n",
            "\n",
            " Evaluating model: /content/drive/MyDrive/dcgan_checkpoints/dcgan_epoch_164.pth\n",
            " Error at epoch 164: [Errno 2] No such file or directory: '/content/drive/MyDrive/dcgan_checkpoints/dcgan_epoch_164.pth'\n",
            "\n",
            " Evaluating model: /content/drive/MyDrive/dcgan_checkpoints/dcgan_epoch_165.pth\n"
          ]
        },
        {
          "output_type": "stream",
          "name": "stderr",
          "text": [
            "100%|██████████| 32/32 [00:00<00:00, 46.35it/s]\n",
            "100%|██████████| 32/32 [00:00<00:00, 46.83it/s]\n"
          ]
        },
        {
          "output_type": "stream",
          "name": "stdout",
          "text": [
            " FID for epoch 165: 84.8554\n",
            "\n",
            " Evaluating model: /content/drive/MyDrive/dcgan_checkpoints/dcgan_epoch_166.pth\n",
            " Error at epoch 166: [Errno 2] No such file or directory: '/content/drive/MyDrive/dcgan_checkpoints/dcgan_epoch_166.pth'\n",
            "\n",
            " Evaluating model: /content/drive/MyDrive/dcgan_checkpoints/dcgan_epoch_167.pth\n",
            " Error at epoch 167: [Errno 2] No such file or directory: '/content/drive/MyDrive/dcgan_checkpoints/dcgan_epoch_167.pth'\n",
            "\n",
            " Evaluating model: /content/drive/MyDrive/dcgan_checkpoints/dcgan_epoch_168.pth\n",
            " Error at epoch 168: [Errno 2] No such file or directory: '/content/drive/MyDrive/dcgan_checkpoints/dcgan_epoch_168.pth'\n",
            "\n",
            " Evaluating model: /content/drive/MyDrive/dcgan_checkpoints/dcgan_epoch_169.pth\n",
            " Error at epoch 169: [Errno 2] No such file or directory: '/content/drive/MyDrive/dcgan_checkpoints/dcgan_epoch_169.pth'\n",
            "\n",
            " Evaluating model: /content/drive/MyDrive/dcgan_checkpoints/dcgan_epoch_170.pth\n"
          ]
        },
        {
          "output_type": "stream",
          "name": "stderr",
          "text": [
            "100%|██████████| 32/32 [00:00<00:00, 44.86it/s]\n",
            "100%|██████████| 32/32 [00:00<00:00, 46.88it/s]\n"
          ]
        },
        {
          "output_type": "stream",
          "name": "stdout",
          "text": [
            " FID for epoch 170: 84.9568\n",
            "\n",
            " Evaluating model: /content/drive/MyDrive/dcgan_checkpoints/dcgan_epoch_171.pth\n",
            " Error at epoch 171: [Errno 2] No such file or directory: '/content/drive/MyDrive/dcgan_checkpoints/dcgan_epoch_171.pth'\n",
            "\n",
            " Evaluating model: /content/drive/MyDrive/dcgan_checkpoints/dcgan_epoch_172.pth\n",
            " Error at epoch 172: [Errno 2] No such file or directory: '/content/drive/MyDrive/dcgan_checkpoints/dcgan_epoch_172.pth'\n",
            "\n",
            " Evaluating model: /content/drive/MyDrive/dcgan_checkpoints/dcgan_epoch_173.pth\n",
            " Error at epoch 173: [Errno 2] No such file or directory: '/content/drive/MyDrive/dcgan_checkpoints/dcgan_epoch_173.pth'\n",
            "\n",
            " Evaluating model: /content/drive/MyDrive/dcgan_checkpoints/dcgan_epoch_174.pth\n",
            " Error at epoch 174: [Errno 2] No such file or directory: '/content/drive/MyDrive/dcgan_checkpoints/dcgan_epoch_174.pth'\n",
            "\n",
            " Evaluating model: /content/drive/MyDrive/dcgan_checkpoints/dcgan_epoch_175.pth\n"
          ]
        },
        {
          "output_type": "stream",
          "name": "stderr",
          "text": [
            "100%|██████████| 32/32 [00:00<00:00, 44.86it/s]\n",
            "100%|██████████| 32/32 [00:00<00:00, 46.79it/s]\n"
          ]
        },
        {
          "output_type": "stream",
          "name": "stdout",
          "text": [
            " FID for epoch 175: 83.7896\n",
            "\n",
            " Evaluating model: /content/drive/MyDrive/dcgan_checkpoints/dcgan_epoch_176.pth\n",
            " Error at epoch 176: [Errno 2] No such file or directory: '/content/drive/MyDrive/dcgan_checkpoints/dcgan_epoch_176.pth'\n",
            "\n",
            " Evaluating model: /content/drive/MyDrive/dcgan_checkpoints/dcgan_epoch_177.pth\n",
            " Error at epoch 177: [Errno 2] No such file or directory: '/content/drive/MyDrive/dcgan_checkpoints/dcgan_epoch_177.pth'\n",
            "\n",
            " Evaluating model: /content/drive/MyDrive/dcgan_checkpoints/dcgan_epoch_178.pth\n",
            " Error at epoch 178: [Errno 2] No such file or directory: '/content/drive/MyDrive/dcgan_checkpoints/dcgan_epoch_178.pth'\n",
            "\n",
            " Evaluating model: /content/drive/MyDrive/dcgan_checkpoints/dcgan_epoch_179.pth\n",
            " Error at epoch 179: [Errno 2] No such file or directory: '/content/drive/MyDrive/dcgan_checkpoints/dcgan_epoch_179.pth'\n",
            "\n",
            " Evaluating model: /content/drive/MyDrive/dcgan_checkpoints/dcgan_epoch_180.pth\n"
          ]
        },
        {
          "output_type": "stream",
          "name": "stderr",
          "text": [
            "100%|██████████| 32/32 [00:00<00:00, 44.61it/s]\n",
            "100%|██████████| 32/32 [00:00<00:00, 46.65it/s]\n"
          ]
        },
        {
          "output_type": "stream",
          "name": "stdout",
          "text": [
            " FID for epoch 180: 83.9528\n",
            "\n",
            " Evaluating model: /content/drive/MyDrive/dcgan_checkpoints/dcgan_epoch_181.pth\n",
            " Error at epoch 181: [Errno 2] No such file or directory: '/content/drive/MyDrive/dcgan_checkpoints/dcgan_epoch_181.pth'\n",
            "\n",
            " Evaluating model: /content/drive/MyDrive/dcgan_checkpoints/dcgan_epoch_182.pth\n",
            " Error at epoch 182: [Errno 2] No such file or directory: '/content/drive/MyDrive/dcgan_checkpoints/dcgan_epoch_182.pth'\n",
            "\n",
            " Evaluating model: /content/drive/MyDrive/dcgan_checkpoints/dcgan_epoch_183.pth\n",
            " Error at epoch 183: [Errno 2] No such file or directory: '/content/drive/MyDrive/dcgan_checkpoints/dcgan_epoch_183.pth'\n",
            "\n",
            " Evaluating model: /content/drive/MyDrive/dcgan_checkpoints/dcgan_epoch_184.pth\n",
            " Error at epoch 184: [Errno 2] No such file or directory: '/content/drive/MyDrive/dcgan_checkpoints/dcgan_epoch_184.pth'\n",
            "\n",
            " Evaluating model: /content/drive/MyDrive/dcgan_checkpoints/dcgan_epoch_185.pth\n"
          ]
        },
        {
          "output_type": "stream",
          "name": "stderr",
          "text": [
            "100%|██████████| 32/32 [00:00<00:00, 45.98it/s]\n",
            "100%|██████████| 32/32 [00:00<00:00, 44.58it/s]\n"
          ]
        },
        {
          "output_type": "stream",
          "name": "stdout",
          "text": [
            " FID for epoch 185: 83.1409\n",
            "\n",
            " Evaluating model: /content/drive/MyDrive/dcgan_checkpoints/dcgan_epoch_186.pth\n",
            " Error at epoch 186: [Errno 2] No such file or directory: '/content/drive/MyDrive/dcgan_checkpoints/dcgan_epoch_186.pth'\n",
            "\n",
            " Evaluating model: /content/drive/MyDrive/dcgan_checkpoints/dcgan_epoch_187.pth\n",
            " Error at epoch 187: [Errno 2] No such file or directory: '/content/drive/MyDrive/dcgan_checkpoints/dcgan_epoch_187.pth'\n",
            "\n",
            " Evaluating model: /content/drive/MyDrive/dcgan_checkpoints/dcgan_epoch_188.pth\n",
            " Error at epoch 188: [Errno 2] No such file or directory: '/content/drive/MyDrive/dcgan_checkpoints/dcgan_epoch_188.pth'\n",
            "\n",
            " Evaluating model: /content/drive/MyDrive/dcgan_checkpoints/dcgan_epoch_189.pth\n",
            " Error at epoch 189: [Errno 2] No such file or directory: '/content/drive/MyDrive/dcgan_checkpoints/dcgan_epoch_189.pth'\n",
            "\n",
            " Evaluating model: /content/drive/MyDrive/dcgan_checkpoints/dcgan_epoch_190.pth\n"
          ]
        },
        {
          "output_type": "stream",
          "name": "stderr",
          "text": [
            "100%|██████████| 32/32 [00:00<00:00, 45.49it/s]\n",
            "100%|██████████| 32/32 [00:00<00:00, 45.06it/s]\n"
          ]
        },
        {
          "output_type": "stream",
          "name": "stdout",
          "text": [
            " FID for epoch 190: 78.5558\n",
            "\n",
            " Evaluating model: /content/drive/MyDrive/dcgan_checkpoints/dcgan_epoch_191.pth\n",
            " Error at epoch 191: [Errno 2] No such file or directory: '/content/drive/MyDrive/dcgan_checkpoints/dcgan_epoch_191.pth'\n",
            "\n",
            " Evaluating model: /content/drive/MyDrive/dcgan_checkpoints/dcgan_epoch_192.pth\n",
            " Error at epoch 192: [Errno 2] No such file or directory: '/content/drive/MyDrive/dcgan_checkpoints/dcgan_epoch_192.pth'\n",
            "\n",
            " Evaluating model: /content/drive/MyDrive/dcgan_checkpoints/dcgan_epoch_193.pth\n",
            " Error at epoch 193: [Errno 2] No such file or directory: '/content/drive/MyDrive/dcgan_checkpoints/dcgan_epoch_193.pth'\n",
            "\n",
            " Evaluating model: /content/drive/MyDrive/dcgan_checkpoints/dcgan_epoch_194.pth\n",
            " Error at epoch 194: [Errno 2] No such file or directory: '/content/drive/MyDrive/dcgan_checkpoints/dcgan_epoch_194.pth'\n",
            "\n",
            " BEST MODEL:\n",
            "Epoch 190 with FID: 78.5558\n"
          ]
        }
      ]
    },
    {
      "cell_type": "code",
      "source": [
        "import os\n",
        "import torch\n",
        "from torchvision.utils import save_image\n",
        "import matplotlib.pyplot as plt\n",
        "from PIL import Image\n",
        "\n",
        "checkpoint_path = \"/content/drive/MyDrive/dcgan_checkpoints/dcgan_epoch_190.pth\"\n",
        "num_epochs = 110\n",
        "z_dim = 100\n",
        "best_lossG = float(\"inf\")\n",
        "\n",
        "if os.path.exists(checkpoint_path):\n",
        "    print(f\"Loading checkpoint: {checkpoint_path}\")\n",
        "    checkpoint = torch.load(checkpoint_path, map_location=device)\n",
        "    gen.load_state_dict(checkpoint['gen_state_dict'])\n",
        "    disc.load_state_dict(checkpoint['disc_state_dict'])\n",
        "    opt_gen.load_state_dict(checkpoint['opt_gen_state_dict'])\n",
        "    opt_disc.load_state_dict(checkpoint['opt_disc_state_dict'])\n",
        "    start_epoch = checkpoint['epoch'] + 1\n",
        "    print(f\"Resumed from epoch {start_epoch}\")\n",
        "else:\n",
        "    print(\"Checkpoint not found. Starting from scratch.\")\n",
        "    start_epoch = 0\n",
        "\n",
        "def show_generated_image(image_path, epoch):\n",
        "    img = Image.open(image_path)\n",
        "    plt.figure(figsize=(6, 6))\n",
        "    plt.imshow(img)\n",
        "    plt.axis('off')\n",
        "    plt.title(f\"Generated Samples - Epoch {epoch}\")\n",
        "    plt.show()\n",
        "\n",
        "for epoch in range(start_epoch, start_epoch + num_epochs):\n",
        "    for batch_idx, (real, _) in enumerate(dataloader):\n",
        "        real = real.to(device)\n",
        "        noise = torch.randn(real.size(0), z_dim, 1, 1).to(device)\n",
        "        fake = gen(noise)\n",
        "\n",
        "        real_noisy = real + 0.1 * torch.randn_like(real)\n",
        "        fake_noisy = fake.detach() + 0.1 * torch.randn_like(fake)\n",
        "\n",
        "        disc_real = disc(real_noisy).reshape(-1)\n",
        "        disc_fake = disc(fake_noisy).reshape(-1)\n",
        "        real_labels = torch.full_like(disc_real, 0.9)\n",
        "        fake_labels = torch.zeros_like(disc_fake)\n",
        "\n",
        "        lossD_real = criterion(disc_real, real_labels)\n",
        "        lossD_fake = criterion(disc_fake, fake_labels)\n",
        "        lossD = (lossD_real + lossD_fake) / 2\n",
        "\n",
        "        disc.zero_grad()\n",
        "        lossD.backward()\n",
        "        opt_disc.step()\n",
        "\n",
        "        output = disc(fake).reshape(-1)\n",
        "        gen_labels = torch.ones_like(output)\n",
        "        lossG = criterion(output, gen_labels)\n",
        "\n",
        "        gen.zero_grad()\n",
        "        lossG.backward()\n",
        "        opt_gen.step()\n",
        "\n",
        "        if batch_idx % 100 == 0:\n",
        "            print(f\"[Epoch {epoch+1}] [Batch {batch_idx}] Loss D: {lossD.item():.4f}, Loss G: {lossG.item():.4f}\")\n",
        "\n",
        "    print(f\" [Epoch {epoch+1}] Final Loss D: {lossD:.4f}, Loss G: {lossG:.4f}\")\n",
        "\n",
        "    sample_path = f\"{sample_dir}/epoch_{epoch+1}.png\"\n",
        "    with torch.no_grad():\n",
        "        fake = gen(fixed_noise)\n",
        "        save_image(fake * 0.5 + 0.5, sample_path)\n",
        "    show_generated_image(sample_path, epoch + 1)\n",
        "\n",
        "    if lossG.item() < best_lossG:\n",
        "        best_lossG = lossG.item()\n",
        "        torch.save(gen.state_dict(), f\"{checkpoint_dir}/best_generator.pth\")\n",
        "        print(f\" Best generator saved at epoch {epoch+1} with Loss G: {best_lossG:.4f}\")\n",
        "\n",
        "    if (epoch + 1) % 5 == 0:\n",
        "        torch.save({\n",
        "            'epoch': epoch,\n",
        "            'gen_state_dict': gen.state_dict(),\n",
        "            'disc_state_dict': disc.state_dict(),\n",
        "            'opt_gen_state_dict': opt_gen.state_dict(),\n",
        "            'opt_disc_state_dict': opt_disc.state_dict(),\n",
        "        }, f\"{checkpoint_dir}/dcgan_epoch_{epoch+1}.pth\")\n"
      ],
      "metadata": {
        "colab": {
          "base_uri": "https://localhost:8080/",
          "height": 1000
        },
        "id": "Zph9ofte116T",
        "outputId": "e3cec98b-be31-42fc-863b-5c45186d8b1f"
      },
      "execution_count": null,
      "outputs": []
    },
    {
      "cell_type": "code",
      "source": [
        "import os\n",
        "import torch\n",
        "from torchvision.utils import save_image\n",
        "import shutil\n",
        "from pytorch_fid.fid_score import calculate_fid_given_paths\n",
        "from glob import glob\n",
        "\n",
        "# === Paths ===\n",
        "checkpoint_dir = \"/content/drive/MyDrive/dcgan_checkpoints\"\n",
        "sample_dir = \"/content/fid_temp/generated\"\n",
        "real_dir = \"/content/fid_temp/real\"\n",
        "os.makedirs(sample_dir, exist_ok=True)\n",
        "os.makedirs(real_dir, exist_ok=True)\n",
        "\n",
        "# === Settings ===\n",
        "z_dim = 100\n",
        "device = \"cuda\" if torch.cuda.is_available() else \"cpu\"\n",
        "\n",
        "# === Load Real Images (first time only) ===\n",
        "from glob import glob\n",
        "from PIL import Image\n",
        "from torchvision import transforms\n",
        "\n",
        "real_images = glob('./vggface2_processed/*/*.png')[:1000]\n",
        "transform = transforms.Compose([\n",
        "    transforms.Resize((64, 64)),\n",
        "    transforms.CenterCrop(64),\n",
        "    transforms.ToTensor(),\n",
        "])\n",
        "\n",
        "# Populate real_dir (only once)\n",
        "if len(os.listdir(real_dir)) < 1000:\n",
        "    for i, path in enumerate(real_images):\n",
        "        img = Image.open(path).convert(\"RGB\")\n",
        "        img = transform(img)\n",
        "        save_image(img, f\"{real_dir}/real_{i}.png\")\n",
        "\n",
        "# === Evaluate FID for Models ===\n",
        "fid_scores = {}\n",
        "\n",
        "for epoch in range(190, 300):  # Update as needed\n",
        "    try:\n",
        "        ckpt_path = f\"{checkpoint_dir}/dcgan_epoch_{epoch}.pth\"\n",
        "        print(f\"\\n Evaluating model: {ckpt_path}\")\n",
        "\n",
        "        # Load Generator\n",
        "        checkpoint = torch.load(ckpt_path, map_location=device)\n",
        "        gen.load_state_dict(checkpoint['gen_state_dict'])\n",
        "        gen.eval()\n",
        "\n",
        "        # Clean generated folder\n",
        "        shutil.rmtree(sample_dir)\n",
        "        os.makedirs(sample_dir, exist_ok=True)\n",
        "\n",
        "        # Generate fake images\n",
        "        with torch.no_grad():\n",
        "            for i in range(1000):  # Use 1000 to match real samples\n",
        "                noise = torch.randn(1, z_dim, 1, 1, device=device)\n",
        "                fake_img = gen(noise).detach().cpu()\n",
        "                save_image(fake_img * 0.5 + 0.5, f\"{sample_dir}/fake_{i}.png\")\n",
        "\n",
        "        # Calculate FID\n",
        "        fid = calculate_fid_given_paths([sample_dir, real_dir], batch_size=32, device=device, dims=2048)\n",
        "        fid_scores[epoch] = fid\n",
        "        print(f\" FID for epoch {epoch}: {fid:.4f}\")\n",
        "\n",
        "    except Exception as e:\n",
        "        print(f\" Error at epoch {epoch}: {e}\")\n",
        "\n",
        "# === Show Best Result ===\n",
        "if fid_scores:\n",
        "    best_epoch = min(fid_scores, key=fid_scores.get)\n",
        "    print(\"\\n BEST MODEL:\")\n",
        "    print(f\"Epoch {best_epoch} with FID: {fid_scores[best_epoch]:.4f}\")\n",
        "\n",
        "    # Save FID results\n",
        "    with open(\"fid_results.txt\", \"w\") as f:\n",
        "        for epoch, fid in fid_scores.items():\n",
        "            f.write(f\"Epoch {epoch}: FID = {fid:.4f}\\n\")\n",
        "        f.write(f\"\\nBest Epoch: {best_epoch} | FID = {fid_scores[best_epoch]:.4f}\\n\")\n",
        "else:\n",
        "    print(\" No FID scores were computed.\")\n"
      ],
      "metadata": {
        "colab": {
          "base_uri": "https://localhost:8080/"
        },
        "id": "pjurhDmL4EoQ",
        "outputId": "7428a463-4392-4e72-c2ff-11adce32e9e1"
      },
      "execution_count": null,
      "outputs": [
        {
          "output_type": "stream",
          "name": "stdout",
          "text": [
            "\n",
            " Evaluating model: /content/drive/MyDrive/dcgan_checkpoints/dcgan_epoch_190.pth\n"
          ]
        },
        {
          "output_type": "stream",
          "name": "stderr",
          "text": [
            "100%|██████████| 32/32 [00:00<00:00, 44.71it/s]\n",
            "100%|██████████| 32/32 [00:00<00:00, 46.28it/s]\n"
          ]
        },
        {
          "output_type": "stream",
          "name": "stdout",
          "text": [
            " FID for epoch 190: 79.1998\n",
            "\n",
            " Evaluating model: /content/drive/MyDrive/dcgan_checkpoints/dcgan_epoch_191.pth\n",
            " Error at epoch 191: [Errno 2] No such file or directory: '/content/drive/MyDrive/dcgan_checkpoints/dcgan_epoch_191.pth'\n",
            "\n",
            " Evaluating model: /content/drive/MyDrive/dcgan_checkpoints/dcgan_epoch_192.pth\n",
            " Error at epoch 192: [Errno 2] No such file or directory: '/content/drive/MyDrive/dcgan_checkpoints/dcgan_epoch_192.pth'\n",
            "\n",
            " Evaluating model: /content/drive/MyDrive/dcgan_checkpoints/dcgan_epoch_193.pth\n",
            " Error at epoch 193: [Errno 2] No such file or directory: '/content/drive/MyDrive/dcgan_checkpoints/dcgan_epoch_193.pth'\n",
            "\n",
            " Evaluating model: /content/drive/MyDrive/dcgan_checkpoints/dcgan_epoch_194.pth\n",
            " Error at epoch 194: [Errno 2] No such file or directory: '/content/drive/MyDrive/dcgan_checkpoints/dcgan_epoch_194.pth'\n",
            "\n",
            " Evaluating model: /content/drive/MyDrive/dcgan_checkpoints/dcgan_epoch_195.pth\n"
          ]
        },
        {
          "output_type": "stream",
          "name": "stderr",
          "text": [
            "100%|██████████| 32/32 [00:00<00:00, 45.32it/s]\n",
            "100%|██████████| 32/32 [00:00<00:00, 45.75it/s]\n"
          ]
        },
        {
          "output_type": "stream",
          "name": "stdout",
          "text": [
            " FID for epoch 195: 85.7797\n",
            "\n",
            " Evaluating model: /content/drive/MyDrive/dcgan_checkpoints/dcgan_epoch_196.pth\n",
            " Error at epoch 196: [Errno 2] No such file or directory: '/content/drive/MyDrive/dcgan_checkpoints/dcgan_epoch_196.pth'\n",
            "\n",
            " Evaluating model: /content/drive/MyDrive/dcgan_checkpoints/dcgan_epoch_197.pth\n",
            " Error at epoch 197: [Errno 2] No such file or directory: '/content/drive/MyDrive/dcgan_checkpoints/dcgan_epoch_197.pth'\n",
            "\n",
            " Evaluating model: /content/drive/MyDrive/dcgan_checkpoints/dcgan_epoch_198.pth\n",
            " Error at epoch 198: [Errno 2] No such file or directory: '/content/drive/MyDrive/dcgan_checkpoints/dcgan_epoch_198.pth'\n",
            "\n",
            " Evaluating model: /content/drive/MyDrive/dcgan_checkpoints/dcgan_epoch_199.pth\n",
            " Error at epoch 199: [Errno 2] No such file or directory: '/content/drive/MyDrive/dcgan_checkpoints/dcgan_epoch_199.pth'\n",
            "\n",
            " Evaluating model: /content/drive/MyDrive/dcgan_checkpoints/dcgan_epoch_200.pth\n"
          ]
        },
        {
          "output_type": "stream",
          "name": "stderr",
          "text": [
            "100%|██████████| 32/32 [00:00<00:00, 45.54it/s]\n",
            "100%|██████████| 32/32 [00:00<00:00, 46.71it/s]\n"
          ]
        },
        {
          "output_type": "stream",
          "name": "stdout",
          "text": [
            " FID for epoch 200: 80.7902\n",
            "\n",
            " Evaluating model: /content/drive/MyDrive/dcgan_checkpoints/dcgan_epoch_201.pth\n",
            " Error at epoch 201: [Errno 2] No such file or directory: '/content/drive/MyDrive/dcgan_checkpoints/dcgan_epoch_201.pth'\n",
            "\n",
            " Evaluating model: /content/drive/MyDrive/dcgan_checkpoints/dcgan_epoch_202.pth\n",
            " Error at epoch 202: [Errno 2] No such file or directory: '/content/drive/MyDrive/dcgan_checkpoints/dcgan_epoch_202.pth'\n",
            "\n",
            " Evaluating model: /content/drive/MyDrive/dcgan_checkpoints/dcgan_epoch_203.pth\n",
            " Error at epoch 203: [Errno 2] No such file or directory: '/content/drive/MyDrive/dcgan_checkpoints/dcgan_epoch_203.pth'\n",
            "\n",
            " Evaluating model: /content/drive/MyDrive/dcgan_checkpoints/dcgan_epoch_204.pth\n",
            " Error at epoch 204: [Errno 2] No such file or directory: '/content/drive/MyDrive/dcgan_checkpoints/dcgan_epoch_204.pth'\n",
            "\n",
            " Evaluating model: /content/drive/MyDrive/dcgan_checkpoints/dcgan_epoch_205.pth\n"
          ]
        },
        {
          "output_type": "stream",
          "name": "stderr",
          "text": [
            "100%|██████████| 32/32 [00:00<00:00, 45.13it/s]\n",
            "100%|██████████| 32/32 [00:00<00:00, 46.48it/s]\n"
          ]
        },
        {
          "output_type": "stream",
          "name": "stdout",
          "text": [
            " FID for epoch 205: 78.7577\n",
            "\n",
            " Evaluating model: /content/drive/MyDrive/dcgan_checkpoints/dcgan_epoch_206.pth\n",
            " Error at epoch 206: [Errno 2] No such file or directory: '/content/drive/MyDrive/dcgan_checkpoints/dcgan_epoch_206.pth'\n",
            "\n",
            " Evaluating model: /content/drive/MyDrive/dcgan_checkpoints/dcgan_epoch_207.pth\n",
            " Error at epoch 207: [Errno 2] No such file or directory: '/content/drive/MyDrive/dcgan_checkpoints/dcgan_epoch_207.pth'\n",
            "\n",
            " Evaluating model: /content/drive/MyDrive/dcgan_checkpoints/dcgan_epoch_208.pth\n",
            " Error at epoch 208: [Errno 2] No such file or directory: '/content/drive/MyDrive/dcgan_checkpoints/dcgan_epoch_208.pth'\n",
            "\n",
            " Evaluating model: /content/drive/MyDrive/dcgan_checkpoints/dcgan_epoch_209.pth\n",
            " Error at epoch 209: [Errno 2] No such file or directory: '/content/drive/MyDrive/dcgan_checkpoints/dcgan_epoch_209.pth'\n",
            "\n",
            " Evaluating model: /content/drive/MyDrive/dcgan_checkpoints/dcgan_epoch_210.pth\n"
          ]
        },
        {
          "output_type": "stream",
          "name": "stderr",
          "text": [
            "100%|██████████| 32/32 [00:00<00:00, 46.19it/s]\n",
            "100%|██████████| 32/32 [00:00<00:00, 45.31it/s]\n"
          ]
        },
        {
          "output_type": "stream",
          "name": "stdout",
          "text": [
            " FID for epoch 210: 82.5870\n",
            "\n",
            " Evaluating model: /content/drive/MyDrive/dcgan_checkpoints/dcgan_epoch_211.pth\n",
            " Error at epoch 211: [Errno 2] No such file or directory: '/content/drive/MyDrive/dcgan_checkpoints/dcgan_epoch_211.pth'\n",
            "\n",
            " Evaluating model: /content/drive/MyDrive/dcgan_checkpoints/dcgan_epoch_212.pth\n",
            " Error at epoch 212: [Errno 2] No such file or directory: '/content/drive/MyDrive/dcgan_checkpoints/dcgan_epoch_212.pth'\n",
            "\n",
            " Evaluating model: /content/drive/MyDrive/dcgan_checkpoints/dcgan_epoch_213.pth\n",
            " Error at epoch 213: [Errno 2] No such file or directory: '/content/drive/MyDrive/dcgan_checkpoints/dcgan_epoch_213.pth'\n",
            "\n",
            " Evaluating model: /content/drive/MyDrive/dcgan_checkpoints/dcgan_epoch_214.pth\n",
            " Error at epoch 214: [Errno 2] No such file or directory: '/content/drive/MyDrive/dcgan_checkpoints/dcgan_epoch_214.pth'\n",
            "\n",
            " Evaluating model: /content/drive/MyDrive/dcgan_checkpoints/dcgan_epoch_215.pth\n"
          ]
        },
        {
          "output_type": "stream",
          "name": "stderr",
          "text": [
            "100%|██████████| 32/32 [00:00<00:00, 44.33it/s]\n",
            "100%|██████████| 32/32 [00:00<00:00, 47.17it/s]\n"
          ]
        },
        {
          "output_type": "stream",
          "name": "stdout",
          "text": [
            " FID for epoch 215: 80.4423\n",
            "\n",
            " Evaluating model: /content/drive/MyDrive/dcgan_checkpoints/dcgan_epoch_216.pth\n",
            " Error at epoch 216: [Errno 2] No such file or directory: '/content/drive/MyDrive/dcgan_checkpoints/dcgan_epoch_216.pth'\n",
            "\n",
            " Evaluating model: /content/drive/MyDrive/dcgan_checkpoints/dcgan_epoch_217.pth\n",
            " Error at epoch 217: [Errno 2] No such file or directory: '/content/drive/MyDrive/dcgan_checkpoints/dcgan_epoch_217.pth'\n",
            "\n",
            " Evaluating model: /content/drive/MyDrive/dcgan_checkpoints/dcgan_epoch_218.pth\n",
            " Error at epoch 218: [Errno 2] No such file or directory: '/content/drive/MyDrive/dcgan_checkpoints/dcgan_epoch_218.pth'\n",
            "\n",
            " Evaluating model: /content/drive/MyDrive/dcgan_checkpoints/dcgan_epoch_219.pth\n",
            " Error at epoch 219: [Errno 2] No such file or directory: '/content/drive/MyDrive/dcgan_checkpoints/dcgan_epoch_219.pth'\n",
            "\n",
            " Evaluating model: /content/drive/MyDrive/dcgan_checkpoints/dcgan_epoch_220.pth\n"
          ]
        },
        {
          "output_type": "stream",
          "name": "stderr",
          "text": [
            "100%|██████████| 32/32 [00:00<00:00, 44.75it/s]\n",
            "100%|██████████| 32/32 [00:00<00:00, 42.87it/s]\n"
          ]
        },
        {
          "output_type": "stream",
          "name": "stdout",
          "text": [
            " FID for epoch 220: 77.6454\n",
            "\n",
            " Evaluating model: /content/drive/MyDrive/dcgan_checkpoints/dcgan_epoch_221.pth\n",
            " Error at epoch 221: [Errno 2] No such file or directory: '/content/drive/MyDrive/dcgan_checkpoints/dcgan_epoch_221.pth'\n",
            "\n",
            " Evaluating model: /content/drive/MyDrive/dcgan_checkpoints/dcgan_epoch_222.pth\n",
            " Error at epoch 222: [Errno 2] No such file or directory: '/content/drive/MyDrive/dcgan_checkpoints/dcgan_epoch_222.pth'\n",
            "\n",
            " Evaluating model: /content/drive/MyDrive/dcgan_checkpoints/dcgan_epoch_223.pth\n",
            " Error at epoch 223: [Errno 2] No such file or directory: '/content/drive/MyDrive/dcgan_checkpoints/dcgan_epoch_223.pth'\n",
            "\n",
            " Evaluating model: /content/drive/MyDrive/dcgan_checkpoints/dcgan_epoch_224.pth\n",
            " Error at epoch 224: [Errno 2] No such file or directory: '/content/drive/MyDrive/dcgan_checkpoints/dcgan_epoch_224.pth'\n",
            "\n",
            " Evaluating model: /content/drive/MyDrive/dcgan_checkpoints/dcgan_epoch_225.pth\n"
          ]
        },
        {
          "output_type": "stream",
          "name": "stderr",
          "text": [
            "100%|██████████| 32/32 [00:00<00:00, 44.32it/s]\n",
            "100%|██████████| 32/32 [00:00<00:00, 47.21it/s]\n"
          ]
        },
        {
          "output_type": "stream",
          "name": "stdout",
          "text": [
            " FID for epoch 225: 77.1402\n",
            "\n",
            " Evaluating model: /content/drive/MyDrive/dcgan_checkpoints/dcgan_epoch_226.pth\n",
            " Error at epoch 226: [Errno 2] No such file or directory: '/content/drive/MyDrive/dcgan_checkpoints/dcgan_epoch_226.pth'\n",
            "\n",
            " Evaluating model: /content/drive/MyDrive/dcgan_checkpoints/dcgan_epoch_227.pth\n",
            " Error at epoch 227: [Errno 2] No such file or directory: '/content/drive/MyDrive/dcgan_checkpoints/dcgan_epoch_227.pth'\n",
            "\n",
            " Evaluating model: /content/drive/MyDrive/dcgan_checkpoints/dcgan_epoch_228.pth\n",
            " Error at epoch 228: [Errno 2] No such file or directory: '/content/drive/MyDrive/dcgan_checkpoints/dcgan_epoch_228.pth'\n",
            "\n",
            " Evaluating model: /content/drive/MyDrive/dcgan_checkpoints/dcgan_epoch_229.pth\n",
            " Error at epoch 229: [Errno 2] No such file or directory: '/content/drive/MyDrive/dcgan_checkpoints/dcgan_epoch_229.pth'\n",
            "\n",
            " Evaluating model: /content/drive/MyDrive/dcgan_checkpoints/dcgan_epoch_230.pth\n"
          ]
        },
        {
          "output_type": "stream",
          "name": "stderr",
          "text": [
            "100%|██████████| 32/32 [00:00<00:00, 44.91it/s]\n",
            "100%|██████████| 32/32 [00:00<00:00, 46.77it/s]\n"
          ]
        },
        {
          "output_type": "stream",
          "name": "stdout",
          "text": [
            " FID for epoch 230: 82.6342\n",
            "\n",
            " Evaluating model: /content/drive/MyDrive/dcgan_checkpoints/dcgan_epoch_231.pth\n",
            " Error at epoch 231: [Errno 2] No such file or directory: '/content/drive/MyDrive/dcgan_checkpoints/dcgan_epoch_231.pth'\n",
            "\n",
            " Evaluating model: /content/drive/MyDrive/dcgan_checkpoints/dcgan_epoch_232.pth\n",
            " Error at epoch 232: [Errno 2] No such file or directory: '/content/drive/MyDrive/dcgan_checkpoints/dcgan_epoch_232.pth'\n",
            "\n",
            " Evaluating model: /content/drive/MyDrive/dcgan_checkpoints/dcgan_epoch_233.pth\n",
            " Error at epoch 233: [Errno 2] No such file or directory: '/content/drive/MyDrive/dcgan_checkpoints/dcgan_epoch_233.pth'\n",
            "\n",
            " Evaluating model: /content/drive/MyDrive/dcgan_checkpoints/dcgan_epoch_234.pth\n",
            " Error at epoch 234: [Errno 2] No such file or directory: '/content/drive/MyDrive/dcgan_checkpoints/dcgan_epoch_234.pth'\n",
            "\n",
            " Evaluating model: /content/drive/MyDrive/dcgan_checkpoints/dcgan_epoch_235.pth\n"
          ]
        },
        {
          "output_type": "stream",
          "name": "stderr",
          "text": [
            "100%|██████████| 32/32 [00:00<00:00, 45.92it/s]\n",
            "100%|██████████| 32/32 [00:00<00:00, 46.96it/s]\n"
          ]
        },
        {
          "output_type": "stream",
          "name": "stdout",
          "text": [
            " FID for epoch 235: 78.0365\n",
            "\n",
            " Evaluating model: /content/drive/MyDrive/dcgan_checkpoints/dcgan_epoch_236.pth\n",
            " Error at epoch 236: [Errno 2] No such file or directory: '/content/drive/MyDrive/dcgan_checkpoints/dcgan_epoch_236.pth'\n",
            "\n",
            " Evaluating model: /content/drive/MyDrive/dcgan_checkpoints/dcgan_epoch_237.pth\n",
            " Error at epoch 237: [Errno 2] No such file or directory: '/content/drive/MyDrive/dcgan_checkpoints/dcgan_epoch_237.pth'\n",
            "\n",
            " Evaluating model: /content/drive/MyDrive/dcgan_checkpoints/dcgan_epoch_238.pth\n",
            " Error at epoch 238: [Errno 2] No such file or directory: '/content/drive/MyDrive/dcgan_checkpoints/dcgan_epoch_238.pth'\n",
            "\n",
            " Evaluating model: /content/drive/MyDrive/dcgan_checkpoints/dcgan_epoch_239.pth\n",
            " Error at epoch 239: [Errno 2] No such file or directory: '/content/drive/MyDrive/dcgan_checkpoints/dcgan_epoch_239.pth'\n",
            "\n",
            " Evaluating model: /content/drive/MyDrive/dcgan_checkpoints/dcgan_epoch_240.pth\n"
          ]
        },
        {
          "output_type": "stream",
          "name": "stderr",
          "text": [
            "100%|██████████| 32/32 [00:00<00:00, 45.47it/s]\n",
            "100%|██████████| 32/32 [00:00<00:00, 46.67it/s]\n"
          ]
        },
        {
          "output_type": "stream",
          "name": "stdout",
          "text": [
            " FID for epoch 240: 78.6916\n",
            "\n",
            " Evaluating model: /content/drive/MyDrive/dcgan_checkpoints/dcgan_epoch_241.pth\n",
            " Error at epoch 241: [Errno 2] No such file or directory: '/content/drive/MyDrive/dcgan_checkpoints/dcgan_epoch_241.pth'\n",
            "\n",
            " Evaluating model: /content/drive/MyDrive/dcgan_checkpoints/dcgan_epoch_242.pth\n",
            " Error at epoch 242: [Errno 2] No such file or directory: '/content/drive/MyDrive/dcgan_checkpoints/dcgan_epoch_242.pth'\n",
            "\n",
            " Evaluating model: /content/drive/MyDrive/dcgan_checkpoints/dcgan_epoch_243.pth\n",
            " Error at epoch 243: [Errno 2] No such file or directory: '/content/drive/MyDrive/dcgan_checkpoints/dcgan_epoch_243.pth'\n",
            "\n",
            " Evaluating model: /content/drive/MyDrive/dcgan_checkpoints/dcgan_epoch_244.pth\n",
            " Error at epoch 244: [Errno 2] No such file or directory: '/content/drive/MyDrive/dcgan_checkpoints/dcgan_epoch_244.pth'\n",
            "\n",
            " Evaluating model: /content/drive/MyDrive/dcgan_checkpoints/dcgan_epoch_245.pth\n"
          ]
        },
        {
          "output_type": "stream",
          "name": "stderr",
          "text": [
            "100%|██████████| 32/32 [00:00<00:00, 45.47it/s]\n",
            "100%|██████████| 32/32 [00:00<00:00, 46.93it/s]\n"
          ]
        },
        {
          "output_type": "stream",
          "name": "stdout",
          "text": [
            " FID for epoch 245: 78.5066\n",
            "\n",
            " Evaluating model: /content/drive/MyDrive/dcgan_checkpoints/dcgan_epoch_246.pth\n",
            " Error at epoch 246: [Errno 2] No such file or directory: '/content/drive/MyDrive/dcgan_checkpoints/dcgan_epoch_246.pth'\n",
            "\n",
            " Evaluating model: /content/drive/MyDrive/dcgan_checkpoints/dcgan_epoch_247.pth\n",
            " Error at epoch 247: [Errno 2] No such file or directory: '/content/drive/MyDrive/dcgan_checkpoints/dcgan_epoch_247.pth'\n",
            "\n",
            " Evaluating model: /content/drive/MyDrive/dcgan_checkpoints/dcgan_epoch_248.pth\n",
            " Error at epoch 248: [Errno 2] No such file or directory: '/content/drive/MyDrive/dcgan_checkpoints/dcgan_epoch_248.pth'\n",
            "\n",
            " Evaluating model: /content/drive/MyDrive/dcgan_checkpoints/dcgan_epoch_249.pth\n",
            " Error at epoch 249: [Errno 2] No such file or directory: '/content/drive/MyDrive/dcgan_checkpoints/dcgan_epoch_249.pth'\n",
            "\n",
            " Evaluating model: /content/drive/MyDrive/dcgan_checkpoints/dcgan_epoch_250.pth\n"
          ]
        },
        {
          "output_type": "stream",
          "name": "stderr",
          "text": [
            "100%|██████████| 32/32 [00:00<00:00, 44.03it/s]\n",
            "100%|██████████| 32/32 [00:00<00:00, 42.45it/s]\n"
          ]
        },
        {
          "output_type": "stream",
          "name": "stdout",
          "text": [
            " FID for epoch 250: 78.8975\n",
            "\n",
            " Evaluating model: /content/drive/MyDrive/dcgan_checkpoints/dcgan_epoch_251.pth\n",
            " Error at epoch 251: [Errno 2] No such file or directory: '/content/drive/MyDrive/dcgan_checkpoints/dcgan_epoch_251.pth'\n",
            "\n",
            " Evaluating model: /content/drive/MyDrive/dcgan_checkpoints/dcgan_epoch_252.pth\n",
            " Error at epoch 252: [Errno 2] No such file or directory: '/content/drive/MyDrive/dcgan_checkpoints/dcgan_epoch_252.pth'\n",
            "\n",
            " Evaluating model: /content/drive/MyDrive/dcgan_checkpoints/dcgan_epoch_253.pth\n",
            " Error at epoch 253: [Errno 2] No such file or directory: '/content/drive/MyDrive/dcgan_checkpoints/dcgan_epoch_253.pth'\n",
            "\n",
            " Evaluating model: /content/drive/MyDrive/dcgan_checkpoints/dcgan_epoch_254.pth\n",
            " Error at epoch 254: [Errno 2] No such file or directory: '/content/drive/MyDrive/dcgan_checkpoints/dcgan_epoch_254.pth'\n",
            "\n",
            " Evaluating model: /content/drive/MyDrive/dcgan_checkpoints/dcgan_epoch_255.pth\n"
          ]
        },
        {
          "output_type": "stream",
          "name": "stderr",
          "text": [
            "100%|██████████| 32/32 [00:00<00:00, 46.02it/s]\n",
            "100%|██████████| 32/32 [00:00<00:00, 46.54it/s]\n"
          ]
        },
        {
          "output_type": "stream",
          "name": "stdout",
          "text": [
            " FID for epoch 255: 77.8520\n",
            "\n",
            " Evaluating model: /content/drive/MyDrive/dcgan_checkpoints/dcgan_epoch_256.pth\n",
            " Error at epoch 256: [Errno 2] No such file or directory: '/content/drive/MyDrive/dcgan_checkpoints/dcgan_epoch_256.pth'\n",
            "\n",
            " Evaluating model: /content/drive/MyDrive/dcgan_checkpoints/dcgan_epoch_257.pth\n",
            " Error at epoch 257: [Errno 2] No such file or directory: '/content/drive/MyDrive/dcgan_checkpoints/dcgan_epoch_257.pth'\n",
            "\n",
            " Evaluating model: /content/drive/MyDrive/dcgan_checkpoints/dcgan_epoch_258.pth\n",
            " Error at epoch 258: [Errno 2] No such file or directory: '/content/drive/MyDrive/dcgan_checkpoints/dcgan_epoch_258.pth'\n",
            "\n",
            " Evaluating model: /content/drive/MyDrive/dcgan_checkpoints/dcgan_epoch_259.pth\n",
            " Error at epoch 259: [Errno 2] No such file or directory: '/content/drive/MyDrive/dcgan_checkpoints/dcgan_epoch_259.pth'\n",
            "\n",
            " Evaluating model: /content/drive/MyDrive/dcgan_checkpoints/dcgan_epoch_260.pth\n"
          ]
        },
        {
          "output_type": "stream",
          "name": "stderr",
          "text": [
            "100%|██████████| 32/32 [00:00<00:00, 44.81it/s]\n",
            "100%|██████████| 32/32 [00:00<00:00, 46.65it/s]\n"
          ]
        },
        {
          "output_type": "stream",
          "name": "stdout",
          "text": [
            " FID for epoch 260: 81.2740\n",
            "\n",
            " Evaluating model: /content/drive/MyDrive/dcgan_checkpoints/dcgan_epoch_261.pth\n",
            " Error at epoch 261: [Errno 2] No such file or directory: '/content/drive/MyDrive/dcgan_checkpoints/dcgan_epoch_261.pth'\n",
            "\n",
            " Evaluating model: /content/drive/MyDrive/dcgan_checkpoints/dcgan_epoch_262.pth\n",
            " Error at epoch 262: [Errno 2] No such file or directory: '/content/drive/MyDrive/dcgan_checkpoints/dcgan_epoch_262.pth'\n",
            "\n",
            " Evaluating model: /content/drive/MyDrive/dcgan_checkpoints/dcgan_epoch_263.pth\n",
            " Error at epoch 263: [Errno 2] No such file or directory: '/content/drive/MyDrive/dcgan_checkpoints/dcgan_epoch_263.pth'\n",
            "\n",
            " Evaluating model: /content/drive/MyDrive/dcgan_checkpoints/dcgan_epoch_264.pth\n",
            " Error at epoch 264: [Errno 2] No such file or directory: '/content/drive/MyDrive/dcgan_checkpoints/dcgan_epoch_264.pth'\n",
            "\n",
            " Evaluating model: /content/drive/MyDrive/dcgan_checkpoints/dcgan_epoch_265.pth\n"
          ]
        },
        {
          "output_type": "stream",
          "name": "stderr",
          "text": [
            "100%|██████████| 32/32 [00:00<00:00, 43.95it/s]\n",
            "100%|██████████| 32/32 [00:00<00:00, 46.44it/s]\n"
          ]
        },
        {
          "output_type": "stream",
          "name": "stdout",
          "text": [
            " FID for epoch 265: 77.0194\n",
            "\n",
            " Evaluating model: /content/drive/MyDrive/dcgan_checkpoints/dcgan_epoch_266.pth\n",
            " Error at epoch 266: [Errno 2] No such file or directory: '/content/drive/MyDrive/dcgan_checkpoints/dcgan_epoch_266.pth'\n",
            "\n",
            " Evaluating model: /content/drive/MyDrive/dcgan_checkpoints/dcgan_epoch_267.pth\n",
            " Error at epoch 267: [Errno 2] No such file or directory: '/content/drive/MyDrive/dcgan_checkpoints/dcgan_epoch_267.pth'\n",
            "\n",
            " Evaluating model: /content/drive/MyDrive/dcgan_checkpoints/dcgan_epoch_268.pth\n",
            " Error at epoch 268: [Errno 2] No such file or directory: '/content/drive/MyDrive/dcgan_checkpoints/dcgan_epoch_268.pth'\n",
            "\n",
            " Evaluating model: /content/drive/MyDrive/dcgan_checkpoints/dcgan_epoch_269.pth\n",
            " Error at epoch 269: [Errno 2] No such file or directory: '/content/drive/MyDrive/dcgan_checkpoints/dcgan_epoch_269.pth'\n",
            "\n",
            " Evaluating model: /content/drive/MyDrive/dcgan_checkpoints/dcgan_epoch_270.pth\n"
          ]
        },
        {
          "output_type": "stream",
          "name": "stderr",
          "text": [
            "100%|██████████| 32/32 [00:00<00:00, 46.19it/s]\n",
            "100%|██████████| 32/32 [00:00<00:00, 46.70it/s]\n"
          ]
        },
        {
          "output_type": "stream",
          "name": "stdout",
          "text": [
            " FID for epoch 270: 79.0961\n",
            "\n",
            " Evaluating model: /content/drive/MyDrive/dcgan_checkpoints/dcgan_epoch_271.pth\n",
            " Error at epoch 271: [Errno 2] No such file or directory: '/content/drive/MyDrive/dcgan_checkpoints/dcgan_epoch_271.pth'\n",
            "\n",
            " Evaluating model: /content/drive/MyDrive/dcgan_checkpoints/dcgan_epoch_272.pth\n",
            " Error at epoch 272: [Errno 2] No such file or directory: '/content/drive/MyDrive/dcgan_checkpoints/dcgan_epoch_272.pth'\n",
            "\n",
            " Evaluating model: /content/drive/MyDrive/dcgan_checkpoints/dcgan_epoch_273.pth\n",
            " Error at epoch 273: [Errno 2] No such file or directory: '/content/drive/MyDrive/dcgan_checkpoints/dcgan_epoch_273.pth'\n",
            "\n",
            " Evaluating model: /content/drive/MyDrive/dcgan_checkpoints/dcgan_epoch_274.pth\n",
            " Error at epoch 274: [Errno 2] No such file or directory: '/content/drive/MyDrive/dcgan_checkpoints/dcgan_epoch_274.pth'\n",
            "\n",
            " Evaluating model: /content/drive/MyDrive/dcgan_checkpoints/dcgan_epoch_275.pth\n"
          ]
        },
        {
          "output_type": "stream",
          "name": "stderr",
          "text": [
            "100%|██████████| 32/32 [00:00<00:00, 42.44it/s]\n",
            "100%|██████████| 32/32 [00:00<00:00, 46.88it/s]\n"
          ]
        },
        {
          "output_type": "stream",
          "name": "stdout",
          "text": [
            " FID for epoch 275: 79.9665\n",
            "\n",
            " Evaluating model: /content/drive/MyDrive/dcgan_checkpoints/dcgan_epoch_276.pth\n",
            " Error at epoch 276: [Errno 2] No such file or directory: '/content/drive/MyDrive/dcgan_checkpoints/dcgan_epoch_276.pth'\n",
            "\n",
            " Evaluating model: /content/drive/MyDrive/dcgan_checkpoints/dcgan_epoch_277.pth\n",
            " Error at epoch 277: [Errno 2] No such file or directory: '/content/drive/MyDrive/dcgan_checkpoints/dcgan_epoch_277.pth'\n",
            "\n",
            " Evaluating model: /content/drive/MyDrive/dcgan_checkpoints/dcgan_epoch_278.pth\n",
            " Error at epoch 278: [Errno 2] No such file or directory: '/content/drive/MyDrive/dcgan_checkpoints/dcgan_epoch_278.pth'\n",
            "\n",
            " Evaluating model: /content/drive/MyDrive/dcgan_checkpoints/dcgan_epoch_279.pth\n",
            " Error at epoch 279: [Errno 2] No such file or directory: '/content/drive/MyDrive/dcgan_checkpoints/dcgan_epoch_279.pth'\n",
            "\n",
            " Evaluating model: /content/drive/MyDrive/dcgan_checkpoints/dcgan_epoch_280.pth\n"
          ]
        },
        {
          "output_type": "stream",
          "name": "stderr",
          "text": [
            "100%|██████████| 32/32 [00:00<00:00, 44.60it/s]\n",
            "100%|██████████| 32/32 [00:00<00:00, 46.91it/s]\n"
          ]
        },
        {
          "output_type": "stream",
          "name": "stdout",
          "text": [
            " FID for epoch 280: 75.8781\n",
            "\n",
            " Evaluating model: /content/drive/MyDrive/dcgan_checkpoints/dcgan_epoch_281.pth\n",
            " Error at epoch 281: [Errno 2] No such file or directory: '/content/drive/MyDrive/dcgan_checkpoints/dcgan_epoch_281.pth'\n",
            "\n",
            " Evaluating model: /content/drive/MyDrive/dcgan_checkpoints/dcgan_epoch_282.pth\n",
            " Error at epoch 282: [Errno 2] No such file or directory: '/content/drive/MyDrive/dcgan_checkpoints/dcgan_epoch_282.pth'\n",
            "\n",
            " Evaluating model: /content/drive/MyDrive/dcgan_checkpoints/dcgan_epoch_283.pth\n",
            " Error at epoch 283: [Errno 2] No such file or directory: '/content/drive/MyDrive/dcgan_checkpoints/dcgan_epoch_283.pth'\n",
            "\n",
            " Evaluating model: /content/drive/MyDrive/dcgan_checkpoints/dcgan_epoch_284.pth\n",
            " Error at epoch 284: [Errno 2] No such file or directory: '/content/drive/MyDrive/dcgan_checkpoints/dcgan_epoch_284.pth'\n",
            "\n",
            " Evaluating model: /content/drive/MyDrive/dcgan_checkpoints/dcgan_epoch_285.pth\n"
          ]
        },
        {
          "output_type": "stream",
          "name": "stderr",
          "text": [
            "100%|██████████| 32/32 [00:00<00:00, 45.46it/s]\n",
            "100%|██████████| 32/32 [00:00<00:00, 46.68it/s]\n"
          ]
        },
        {
          "output_type": "stream",
          "name": "stdout",
          "text": [
            " FID for epoch 285: 79.9357\n",
            "\n",
            " Evaluating model: /content/drive/MyDrive/dcgan_checkpoints/dcgan_epoch_286.pth\n",
            " Error at epoch 286: [Errno 2] No such file or directory: '/content/drive/MyDrive/dcgan_checkpoints/dcgan_epoch_286.pth'\n",
            "\n",
            " Evaluating model: /content/drive/MyDrive/dcgan_checkpoints/dcgan_epoch_287.pth\n",
            " Error at epoch 287: [Errno 2] No such file or directory: '/content/drive/MyDrive/dcgan_checkpoints/dcgan_epoch_287.pth'\n",
            "\n",
            " Evaluating model: /content/drive/MyDrive/dcgan_checkpoints/dcgan_epoch_288.pth\n",
            " Error at epoch 288: [Errno 2] No such file or directory: '/content/drive/MyDrive/dcgan_checkpoints/dcgan_epoch_288.pth'\n",
            "\n",
            " Evaluating model: /content/drive/MyDrive/dcgan_checkpoints/dcgan_epoch_289.pth\n",
            " Error at epoch 289: [Errno 2] No such file or directory: '/content/drive/MyDrive/dcgan_checkpoints/dcgan_epoch_289.pth'\n",
            "\n",
            " Evaluating model: /content/drive/MyDrive/dcgan_checkpoints/dcgan_epoch_290.pth\n"
          ]
        },
        {
          "output_type": "stream",
          "name": "stderr",
          "text": [
            "100%|██████████| 32/32 [00:00<00:00, 45.13it/s]\n",
            "100%|██████████| 32/32 [00:00<00:00, 46.48it/s]\n"
          ]
        },
        {
          "output_type": "stream",
          "name": "stdout",
          "text": [
            " FID for epoch 290: 76.5001\n",
            "\n",
            " Evaluating model: /content/drive/MyDrive/dcgan_checkpoints/dcgan_epoch_291.pth\n",
            " Error at epoch 291: [Errno 2] No such file or directory: '/content/drive/MyDrive/dcgan_checkpoints/dcgan_epoch_291.pth'\n",
            "\n",
            " Evaluating model: /content/drive/MyDrive/dcgan_checkpoints/dcgan_epoch_292.pth\n",
            " Error at epoch 292: [Errno 2] No such file or directory: '/content/drive/MyDrive/dcgan_checkpoints/dcgan_epoch_292.pth'\n",
            "\n",
            " Evaluating model: /content/drive/MyDrive/dcgan_checkpoints/dcgan_epoch_293.pth\n",
            " Error at epoch 293: [Errno 2] No such file or directory: '/content/drive/MyDrive/dcgan_checkpoints/dcgan_epoch_293.pth'\n",
            "\n",
            " Evaluating model: /content/drive/MyDrive/dcgan_checkpoints/dcgan_epoch_294.pth\n",
            " Error at epoch 294: [Errno 2] No such file or directory: '/content/drive/MyDrive/dcgan_checkpoints/dcgan_epoch_294.pth'\n",
            "\n",
            " Evaluating model: /content/drive/MyDrive/dcgan_checkpoints/dcgan_epoch_295.pth\n"
          ]
        },
        {
          "output_type": "stream",
          "name": "stderr",
          "text": [
            "100%|██████████| 32/32 [00:00<00:00, 45.94it/s]\n",
            "100%|██████████| 32/32 [00:00<00:00, 47.20it/s]\n"
          ]
        },
        {
          "output_type": "stream",
          "name": "stdout",
          "text": [
            " FID for epoch 295: 76.8271\n",
            "\n",
            " Evaluating model: /content/drive/MyDrive/dcgan_checkpoints/dcgan_epoch_296.pth\n",
            " Error at epoch 296: [Errno 2] No such file or directory: '/content/drive/MyDrive/dcgan_checkpoints/dcgan_epoch_296.pth'\n",
            "\n",
            " Evaluating model: /content/drive/MyDrive/dcgan_checkpoints/dcgan_epoch_297.pth\n",
            " Error at epoch 297: [Errno 2] No such file or directory: '/content/drive/MyDrive/dcgan_checkpoints/dcgan_epoch_297.pth'\n",
            "\n",
            " Evaluating model: /content/drive/MyDrive/dcgan_checkpoints/dcgan_epoch_298.pth\n",
            " Error at epoch 298: [Errno 2] No such file or directory: '/content/drive/MyDrive/dcgan_checkpoints/dcgan_epoch_298.pth'\n",
            "\n",
            " Evaluating model: /content/drive/MyDrive/dcgan_checkpoints/dcgan_epoch_299.pth\n",
            " Error at epoch 299: [Errno 2] No such file or directory: '/content/drive/MyDrive/dcgan_checkpoints/dcgan_epoch_299.pth'\n",
            "\n",
            " BEST MODEL:\n",
            "Epoch 280 with FID: 75.8781\n"
          ]
        }
      ]
    },
    {
      "cell_type": "code",
      "source": [],
      "metadata": {
        "id": "HWJc7b2w5v0y"
      },
      "execution_count": null,
      "outputs": []
    }
  ]
}